{
 "cells": [
  {
   "cell_type": "markdown",
   "metadata": {},
   "source": [
    "# Boolean Selection More\n",
    "\n",
    "## Boolean selection on a Series\n",
    "All of the examples thus far have taken place on DataFrames. Boolean selection on a Series happens almost identically. Since there is only one dimension of data, the queries you ask are usually going to be simpler. First, let's select a single column of data as a Series such as the temperature column."
   ]
  },
  {
   "cell_type": "code",
   "execution_count": 1,
   "metadata": {},
   "outputs": [
    {
     "data": {
      "text/plain": [
       "0    73.9\n",
       "1    69.1\n",
       "2    73.0\n",
       "Name: temperature, dtype: float64"
      ]
     },
     "execution_count": 1,
     "metadata": {},
     "output_type": "execute_result"
    }
   ],
   "source": [
    "import pandas as pd\n",
    "bikes = pd.read_csv('../data/bikes.csv', parse_dates=['starttime', 'stoptime'])\n",
    "temp = bikes['temperature']\n",
    "temp.head(3)"
   ]
  },
  {
   "cell_type": "markdown",
   "metadata": {},
   "source": [
    "Let's select temperatures greater than 90. The procedure is the same as with DataFrames. Create a boolean Series and pass that Series to *just the bracketes*."
   ]
  },
  {
   "cell_type": "code",
   "execution_count": 2,
   "metadata": {},
   "outputs": [
    {
     "data": {
      "text/plain": [
       "54    91.0\n",
       "55    91.0\n",
       "56    91.0\n",
       "Name: temperature, dtype: float64"
      ]
     },
     "execution_count": 2,
     "metadata": {},
     "output_type": "execute_result"
    }
   ],
   "source": [
    "filt = temp > 90\n",
    "temp[filt].head(3)"
   ]
  },
  {
   "cell_type": "markdown",
   "metadata": {},
   "source": [
    "Select temperature less than 0 or greater than 95. Multiple condition boolean Series also work the same."
   ]
  },
  {
   "cell_type": "code",
   "execution_count": 3,
   "metadata": {},
   "outputs": [
    {
     "data": {
      "text/plain": [
       "395     96.1\n",
       "396     96.1\n",
       "397     96.1\n",
       "1871    -2.0\n",
       "2049    -2.0\n",
       "Name: temperature, dtype: float64"
      ]
     },
     "execution_count": 3,
     "metadata": {},
     "output_type": "execute_result"
    }
   ],
   "source": [
    "filt1 = temp < 0\n",
    "filt2 = temp > 95\n",
    "filt = filt1 | filt2\n",
    "temp[filt].head()"
   ]
  },
  {
   "cell_type": "markdown",
   "metadata": {},
   "source": [
    "### Re-read data with `starttime` in the index\n",
    "The default index is not very helpful. Let's reread the data with `starttime` in the index. While, this column may not be unique it does provide us with useful labels for each row."
   ]
  },
  {
   "cell_type": "code",
   "execution_count": 4,
   "metadata": {},
   "outputs": [
    {
     "data": {
      "text/plain": [
       "starttime\n",
       "2013-06-28 19:01:00    73.9\n",
       "2013-06-28 22:53:00    69.1\n",
       "2013-06-30 14:43:00    73.0\n",
       "2013-07-01 10:05:00    72.0\n",
       "2013-07-01 11:16:00    73.0\n",
       "Name: temperature, dtype: float64"
      ]
     },
     "execution_count": 4,
     "metadata": {},
     "output_type": "execute_result"
    }
   ],
   "source": [
    "bikes = pd.read_csv('../data/bikes.csv', \n",
    "                    parse_dates=['starttime', 'stoptime'], \n",
    "                    index_col='starttime')\n",
    "temp2 = bikes['temperature']\n",
    "temp2.head()"
   ]
  },
  {
   "cell_type": "markdown",
   "metadata": {},
   "source": [
    "Let's select temperatures greater than 90. We expect to get a summer month and we do."
   ]
  },
  {
   "cell_type": "code",
   "execution_count": 5,
   "metadata": {},
   "outputs": [
    {
     "data": {
      "text/plain": [
       "starttime\n",
       "2013-07-16 15:13:00    91.0\n",
       "2013-07-16 15:31:00    91.0\n",
       "2013-07-16 16:35:00    91.0\n",
       "2013-07-17 17:08:00    93.0\n",
       "2013-07-17 17:25:00    93.0\n",
       "Name: temperature, dtype: float64"
      ]
     },
     "execution_count": 5,
     "metadata": {},
     "output_type": "execute_result"
    }
   ],
   "source": [
    "filt = temp2 > 90\n",
    "temp2[filt].head(5)"
   ]
  },
  {
   "cell_type": "markdown",
   "metadata": {},
   "source": [
    "Select temperature less than 0 or greater than 95. We expect to get some winter months in the result and we do."
   ]
  },
  {
   "cell_type": "code",
   "execution_count": 6,
   "metadata": {},
   "outputs": [
    {
     "data": {
      "text/plain": [
       "starttime\n",
       "2013-08-30 15:33:00    96.1\n",
       "2013-08-30 15:37:00    96.1\n",
       "2013-08-30 15:49:00    96.1\n",
       "2013-12-12 05:13:00    -2.0\n",
       "2014-01-23 06:15:00    -2.0\n",
       "Name: temperature, dtype: float64"
      ]
     },
     "execution_count": 6,
     "metadata": {},
     "output_type": "execute_result"
    }
   ],
   "source": [
    "filt1 = temp2 < 0\n",
    "filt2 = temp2 > 95\n",
    "filt = filt1 | filt2\n",
    "temp2[filt].head()"
   ]
  },
  {
   "cell_type": "markdown",
   "metadata": {},
   "source": [
    "## The `between` method\n",
    "The `between` method returns a boolean Series by testing whether the current value is between two given values. For instance, if want to select the temperatures between 50 and 60 degrees we do the following:"
   ]
  },
  {
   "cell_type": "code",
   "execution_count": 8,
   "metadata": {},
   "outputs": [
    {
     "data": {
      "text/plain": [
       "starttime\n",
       "2013-06-28 19:01:00    False\n",
       "2013-06-28 22:53:00    False\n",
       "2013-06-30 14:43:00    False\n",
       "Name: temperature, dtype: bool"
      ]
     },
     "execution_count": 8,
     "metadata": {},
     "output_type": "execute_result"
    }
   ],
   "source": [
    "filt = temp2.between(50, 60)\n",
    "filt.head(3)"
   ]
  },
  {
   "cell_type": "markdown",
   "metadata": {},
   "source": [
    "By default, the `between` method is inclusive of the given values, so temperatures of exactly 50 or 60 would be found in the result. We pass this boolean Series to *just the brackets* to complete the selection."
   ]
  },
  {
   "cell_type": "code",
   "execution_count": 9,
   "metadata": {},
   "outputs": [
    {
     "data": {
      "text/plain": [
       "starttime\n",
       "2013-09-13 07:55:00    54.0\n",
       "2013-09-13 08:04:00    57.9\n",
       "2013-09-13 08:04:00    57.9\n",
       "Name: temperature, dtype: float64"
      ]
     },
     "execution_count": 9,
     "metadata": {},
     "output_type": "execute_result"
    }
   ],
   "source": [
    "temp2[filt].head(3)"
   ]
  },
  {
   "cell_type": "markdown",
   "metadata": {},
   "source": [
    "## Simultaneous boolean selection of rows and column labels with `loc`\n",
    "The `loc` indexer was thoroughly covered in an earlier chapter and will now be brought up again to show how it can simultaneously selects rows with boolean selection and columns by labels.\n",
    "\n",
    "Remember that `loc` takes both a row selection and a column selection separated by a comma. Since the row selection comes first, you can pass it the same exact inputs that you do for *just the brackets* and get the same results. Let's run some of the previous examples of boolean selection with `loc`."
   ]
  },
  {
   "cell_type": "code",
   "execution_count": 10,
   "metadata": {},
   "outputs": [
    {
     "data": {
      "text/html": [
       "<div>\n",
       "<style scoped>\n",
       "    .dataframe tbody tr th:only-of-type {\n",
       "        vertical-align: middle;\n",
       "    }\n",
       "\n",
       "    .dataframe tbody tr th {\n",
       "        vertical-align: top;\n",
       "    }\n",
       "\n",
       "    .dataframe thead th {\n",
       "        text-align: right;\n",
       "    }\n",
       "</style>\n",
       "<table border=\"1\" class=\"dataframe\">\n",
       "  <thead>\n",
       "    <tr style=\"text-align: right;\">\n",
       "      <th></th>\n",
       "      <th>trip_id</th>\n",
       "      <th>usertype</th>\n",
       "      <th>gender</th>\n",
       "      <th>stoptime</th>\n",
       "      <th>tripduration</th>\n",
       "      <th>from_station_name</th>\n",
       "      <th>latitude_start</th>\n",
       "      <th>longitude_start</th>\n",
       "      <th>dpcapacity_start</th>\n",
       "      <th>to_station_name</th>\n",
       "      <th>latitude_end</th>\n",
       "      <th>longitude_end</th>\n",
       "      <th>dpcapacity_end</th>\n",
       "      <th>temperature</th>\n",
       "      <th>visibility</th>\n",
       "      <th>wind_speed</th>\n",
       "      <th>precipitation</th>\n",
       "      <th>events</th>\n",
       "    </tr>\n",
       "    <tr>\n",
       "      <th>starttime</th>\n",
       "      <th></th>\n",
       "      <th></th>\n",
       "      <th></th>\n",
       "      <th></th>\n",
       "      <th></th>\n",
       "      <th></th>\n",
       "      <th></th>\n",
       "      <th></th>\n",
       "      <th></th>\n",
       "      <th></th>\n",
       "      <th></th>\n",
       "      <th></th>\n",
       "      <th></th>\n",
       "      <th></th>\n",
       "      <th></th>\n",
       "      <th></th>\n",
       "      <th></th>\n",
       "      <th></th>\n",
       "    </tr>\n",
       "  </thead>\n",
       "  <tbody>\n",
       "    <tr>\n",
       "      <th>2013-06-30 14:43:00</th>\n",
       "      <td>10927</td>\n",
       "      <td>Subscriber</td>\n",
       "      <td>Male</td>\n",
       "      <td>2013-06-30 15:01:00</td>\n",
       "      <td>1040</td>\n",
       "      <td>Sheffield Ave &amp; Kingsbury St</td>\n",
       "      <td>41.909592</td>\n",
       "      <td>-87.653497</td>\n",
       "      <td>15.0</td>\n",
       "      <td>Dearborn St &amp; Monroe St</td>\n",
       "      <td>41.881320</td>\n",
       "      <td>-87.629521</td>\n",
       "      <td>23.0</td>\n",
       "      <td>73.0</td>\n",
       "      <td>10.0</td>\n",
       "      <td>16.1</td>\n",
       "      <td>-9999.0</td>\n",
       "      <td>mostlycloudy</td>\n",
       "    </tr>\n",
       "    <tr>\n",
       "      <th>2013-07-03 15:21:00</th>\n",
       "      <td>21028</td>\n",
       "      <td>Subscriber</td>\n",
       "      <td>Male</td>\n",
       "      <td>2013-07-03 15:42:00</td>\n",
       "      <td>1300</td>\n",
       "      <td>Clinton St &amp; Washington Blvd</td>\n",
       "      <td>41.883380</td>\n",
       "      <td>-87.641170</td>\n",
       "      <td>31.0</td>\n",
       "      <td>Wood St &amp; Division St</td>\n",
       "      <td>41.903320</td>\n",
       "      <td>-87.672730</td>\n",
       "      <td>15.0</td>\n",
       "      <td>71.1</td>\n",
       "      <td>8.0</td>\n",
       "      <td>0.0</td>\n",
       "      <td>-9999.0</td>\n",
       "      <td>cloudy</td>\n",
       "    </tr>\n",
       "    <tr>\n",
       "      <th>2013-07-04 17:17:00</th>\n",
       "      <td>24383</td>\n",
       "      <td>Subscriber</td>\n",
       "      <td>Male</td>\n",
       "      <td>2013-07-04 17:42:00</td>\n",
       "      <td>1523</td>\n",
       "      <td>Morgan St &amp; 18th St</td>\n",
       "      <td>41.858086</td>\n",
       "      <td>-87.651073</td>\n",
       "      <td>15.0</td>\n",
       "      <td>Damen Ave &amp; Pierce Ave</td>\n",
       "      <td>41.909396</td>\n",
       "      <td>-87.677692</td>\n",
       "      <td>19.0</td>\n",
       "      <td>79.0</td>\n",
       "      <td>10.0</td>\n",
       "      <td>9.2</td>\n",
       "      <td>-9999.0</td>\n",
       "      <td>mostlycloudy</td>\n",
       "    </tr>\n",
       "  </tbody>\n",
       "</table>\n",
       "</div>"
      ],
      "text/plain": [
       "                     trip_id    usertype gender            stoptime  \\\n",
       "starttime                                                             \n",
       "2013-06-30 14:43:00    10927  Subscriber   Male 2013-06-30 15:01:00   \n",
       "2013-07-03 15:21:00    21028  Subscriber   Male 2013-07-03 15:42:00   \n",
       "2013-07-04 17:17:00    24383  Subscriber   Male 2013-07-04 17:42:00   \n",
       "\n",
       "                     tripduration             from_station_name  \\\n",
       "starttime                                                         \n",
       "2013-06-30 14:43:00          1040  Sheffield Ave & Kingsbury St   \n",
       "2013-07-03 15:21:00          1300  Clinton St & Washington Blvd   \n",
       "2013-07-04 17:17:00          1523           Morgan St & 18th St   \n",
       "\n",
       "                     latitude_start  longitude_start  dpcapacity_start  \\\n",
       "starttime                                                                \n",
       "2013-06-30 14:43:00       41.909592       -87.653497              15.0   \n",
       "2013-07-03 15:21:00       41.883380       -87.641170              31.0   \n",
       "2013-07-04 17:17:00       41.858086       -87.651073              15.0   \n",
       "\n",
       "                             to_station_name  latitude_end  longitude_end  \\\n",
       "starttime                                                                   \n",
       "2013-06-30 14:43:00  Dearborn St & Monroe St     41.881320     -87.629521   \n",
       "2013-07-03 15:21:00    Wood St & Division St     41.903320     -87.672730   \n",
       "2013-07-04 17:17:00   Damen Ave & Pierce Ave     41.909396     -87.677692   \n",
       "\n",
       "                     dpcapacity_end  temperature  visibility  wind_speed  \\\n",
       "starttime                                                                  \n",
       "2013-06-30 14:43:00            23.0         73.0        10.0        16.1   \n",
       "2013-07-03 15:21:00            15.0         71.1         8.0         0.0   \n",
       "2013-07-04 17:17:00            19.0         79.0        10.0         9.2   \n",
       "\n",
       "                     precipitation        events  \n",
       "starttime                                         \n",
       "2013-06-30 14:43:00        -9999.0  mostlycloudy  \n",
       "2013-07-03 15:21:00        -9999.0        cloudy  \n",
       "2013-07-04 17:17:00        -9999.0  mostlycloudy  "
      ]
     },
     "execution_count": 10,
     "metadata": {},
     "output_type": "execute_result"
    }
   ],
   "source": [
    "filt = bikes['tripduration'] > 1000\n",
    "bikes.loc[filt].head(3)"
   ]
  },
  {
   "cell_type": "code",
   "execution_count": 11,
   "metadata": {},
   "outputs": [
    {
     "data": {
      "text/html": [
       "<div>\n",
       "<style scoped>\n",
       "    .dataframe tbody tr th:only-of-type {\n",
       "        vertical-align: middle;\n",
       "    }\n",
       "\n",
       "    .dataframe tbody tr th {\n",
       "        vertical-align: top;\n",
       "    }\n",
       "\n",
       "    .dataframe thead th {\n",
       "        text-align: right;\n",
       "    }\n",
       "</style>\n",
       "<table border=\"1\" class=\"dataframe\">\n",
       "  <thead>\n",
       "    <tr style=\"text-align: right;\">\n",
       "      <th></th>\n",
       "      <th>trip_id</th>\n",
       "      <th>usertype</th>\n",
       "      <th>gender</th>\n",
       "      <th>stoptime</th>\n",
       "      <th>tripduration</th>\n",
       "      <th>from_station_name</th>\n",
       "      <th>latitude_start</th>\n",
       "      <th>longitude_start</th>\n",
       "      <th>dpcapacity_start</th>\n",
       "      <th>to_station_name</th>\n",
       "      <th>latitude_end</th>\n",
       "      <th>longitude_end</th>\n",
       "      <th>dpcapacity_end</th>\n",
       "      <th>temperature</th>\n",
       "      <th>visibility</th>\n",
       "      <th>wind_speed</th>\n",
       "      <th>precipitation</th>\n",
       "      <th>events</th>\n",
       "    </tr>\n",
       "    <tr>\n",
       "      <th>starttime</th>\n",
       "      <th></th>\n",
       "      <th></th>\n",
       "      <th></th>\n",
       "      <th></th>\n",
       "      <th></th>\n",
       "      <th></th>\n",
       "      <th></th>\n",
       "      <th></th>\n",
       "      <th></th>\n",
       "      <th></th>\n",
       "      <th></th>\n",
       "      <th></th>\n",
       "      <th></th>\n",
       "      <th></th>\n",
       "      <th></th>\n",
       "      <th></th>\n",
       "      <th></th>\n",
       "      <th></th>\n",
       "    </tr>\n",
       "  </thead>\n",
       "  <tbody>\n",
       "    <tr>\n",
       "      <th>2013-07-15 16:43:00</th>\n",
       "      <td>66336</td>\n",
       "      <td>Subscriber</td>\n",
       "      <td>Male</td>\n",
       "      <td>2013-07-15 16:55:00</td>\n",
       "      <td>727</td>\n",
       "      <td>Greenwood Ave &amp; 47th St</td>\n",
       "      <td>41.809835</td>\n",
       "      <td>-87.599383</td>\n",
       "      <td>15.0</td>\n",
       "      <td>State St &amp; Harrison St</td>\n",
       "      <td>41.873958</td>\n",
       "      <td>-87.627739</td>\n",
       "      <td>19.0</td>\n",
       "      <td>82.9</td>\n",
       "      <td>10.0</td>\n",
       "      <td>5.8</td>\n",
       "      <td>0.0</td>\n",
       "      <td>rain</td>\n",
       "    </tr>\n",
       "    <tr>\n",
       "      <th>2013-07-21 16:35:00</th>\n",
       "      <td>89180</td>\n",
       "      <td>Subscriber</td>\n",
       "      <td>Male</td>\n",
       "      <td>2013-07-21 17:06:00</td>\n",
       "      <td>1809</td>\n",
       "      <td>Michigan Ave &amp; Pearson St</td>\n",
       "      <td>41.897660</td>\n",
       "      <td>-87.623510</td>\n",
       "      <td>23.0</td>\n",
       "      <td>Millennium Park</td>\n",
       "      <td>41.881032</td>\n",
       "      <td>-87.624084</td>\n",
       "      <td>35.0</td>\n",
       "      <td>82.4</td>\n",
       "      <td>10.0</td>\n",
       "      <td>11.5</td>\n",
       "      <td>0.0</td>\n",
       "      <td>tstorms</td>\n",
       "    </tr>\n",
       "    <tr>\n",
       "      <th>2013-07-21 16:47:00</th>\n",
       "      <td>89228</td>\n",
       "      <td>Subscriber</td>\n",
       "      <td>Male</td>\n",
       "      <td>2013-07-21 17:03:00</td>\n",
       "      <td>999</td>\n",
       "      <td>Carpenter St &amp; Huron St</td>\n",
       "      <td>41.894556</td>\n",
       "      <td>-87.653449</td>\n",
       "      <td>19.0</td>\n",
       "      <td>Carpenter St &amp; Huron St</td>\n",
       "      <td>41.894556</td>\n",
       "      <td>-87.653449</td>\n",
       "      <td>19.0</td>\n",
       "      <td>82.4</td>\n",
       "      <td>10.0</td>\n",
       "      <td>11.5</td>\n",
       "      <td>0.0</td>\n",
       "      <td>tstorms</td>\n",
       "    </tr>\n",
       "  </tbody>\n",
       "</table>\n",
       "</div>"
      ],
      "text/plain": [
       "                     trip_id    usertype gender            stoptime  \\\n",
       "starttime                                                             \n",
       "2013-07-15 16:43:00    66336  Subscriber   Male 2013-07-15 16:55:00   \n",
       "2013-07-21 16:35:00    89180  Subscriber   Male 2013-07-21 17:06:00   \n",
       "2013-07-21 16:47:00    89228  Subscriber   Male 2013-07-21 17:03:00   \n",
       "\n",
       "                     tripduration          from_station_name  latitude_start  \\\n",
       "starttime                                                                      \n",
       "2013-07-15 16:43:00           727    Greenwood Ave & 47th St       41.809835   \n",
       "2013-07-21 16:35:00          1809  Michigan Ave & Pearson St       41.897660   \n",
       "2013-07-21 16:47:00           999    Carpenter St & Huron St       41.894556   \n",
       "\n",
       "                     longitude_start  dpcapacity_start  \\\n",
       "starttime                                                \n",
       "2013-07-15 16:43:00       -87.599383              15.0   \n",
       "2013-07-21 16:35:00       -87.623510              23.0   \n",
       "2013-07-21 16:47:00       -87.653449              19.0   \n",
       "\n",
       "                             to_station_name  latitude_end  longitude_end  \\\n",
       "starttime                                                                   \n",
       "2013-07-15 16:43:00   State St & Harrison St     41.873958     -87.627739   \n",
       "2013-07-21 16:35:00          Millennium Park     41.881032     -87.624084   \n",
       "2013-07-21 16:47:00  Carpenter St & Huron St     41.894556     -87.653449   \n",
       "\n",
       "                     dpcapacity_end  temperature  visibility  wind_speed  \\\n",
       "starttime                                                                  \n",
       "2013-07-15 16:43:00            19.0         82.9        10.0         5.8   \n",
       "2013-07-21 16:35:00            35.0         82.4        10.0        11.5   \n",
       "2013-07-21 16:47:00            19.0         82.4        10.0        11.5   \n",
       "\n",
       "                     precipitation   events  \n",
       "starttime                                    \n",
       "2013-07-15 16:43:00            0.0     rain  \n",
       "2013-07-21 16:35:00            0.0  tstorms  \n",
       "2013-07-21 16:47:00            0.0  tstorms  "
      ]
     },
     "execution_count": 11,
     "metadata": {},
     "output_type": "execute_result"
    }
   ],
   "source": [
    "filt = bikes['events'].isin(['rain', 'snow', 'tstorms', 'sleet'])\n",
    "bikes.loc[filt].head(3)"
   ]
  },
  {
   "cell_type": "markdown",
   "metadata": {},
   "source": [
    "### Separate row and column selection with a comma for `loc`\n",
    "The nice benefit of `loc` is that it allows us to simultaneously do boolean selection for the rows and select columns by label. Let's select rides during rain or snow and the columns `events` and `tripduration`."
   ]
  },
  {
   "cell_type": "code",
   "execution_count": 12,
   "metadata": {},
   "outputs": [
    {
     "data": {
      "text/html": [
       "<div>\n",
       "<style scoped>\n",
       "    .dataframe tbody tr th:only-of-type {\n",
       "        vertical-align: middle;\n",
       "    }\n",
       "\n",
       "    .dataframe tbody tr th {\n",
       "        vertical-align: top;\n",
       "    }\n",
       "\n",
       "    .dataframe thead th {\n",
       "        text-align: right;\n",
       "    }\n",
       "</style>\n",
       "<table border=\"1\" class=\"dataframe\">\n",
       "  <thead>\n",
       "    <tr style=\"text-align: right;\">\n",
       "      <th></th>\n",
       "      <th>events</th>\n",
       "      <th>tripduration</th>\n",
       "    </tr>\n",
       "    <tr>\n",
       "      <th>starttime</th>\n",
       "      <th></th>\n",
       "      <th></th>\n",
       "    </tr>\n",
       "  </thead>\n",
       "  <tbody>\n",
       "    <tr>\n",
       "      <th>2013-07-15 16:43:00</th>\n",
       "      <td>rain</td>\n",
       "      <td>727</td>\n",
       "    </tr>\n",
       "    <tr>\n",
       "      <th>2013-07-26 19:10:00</th>\n",
       "      <td>rain</td>\n",
       "      <td>1395</td>\n",
       "    </tr>\n",
       "    <tr>\n",
       "      <th>2013-07-30 18:53:00</th>\n",
       "      <td>rain</td>\n",
       "      <td>442</td>\n",
       "    </tr>\n",
       "    <tr>\n",
       "      <th>2013-08-05 17:09:00</th>\n",
       "      <td>rain</td>\n",
       "      <td>890</td>\n",
       "    </tr>\n",
       "    <tr>\n",
       "      <th>2013-09-07 16:09:00</th>\n",
       "      <td>rain</td>\n",
       "      <td>978</td>\n",
       "    </tr>\n",
       "  </tbody>\n",
       "</table>\n",
       "</div>"
      ],
      "text/plain": [
       "                    events  tripduration\n",
       "starttime                               \n",
       "2013-07-15 16:43:00   rain           727\n",
       "2013-07-26 19:10:00   rain          1395\n",
       "2013-07-30 18:53:00   rain           442\n",
       "2013-08-05 17:09:00   rain           890\n",
       "2013-09-07 16:09:00   rain           978"
      ]
     },
     "execution_count": 12,
     "metadata": {},
     "output_type": "execute_result"
    }
   ],
   "source": [
    "filt = bikes['events'].isin(['rain', 'snow'])\n",
    "cols = ['events', 'tripduration']\n",
    "bikes.loc[filt, cols].head()"
   ]
  },
  {
   "cell_type": "markdown",
   "metadata": {},
   "source": [
    "Now let's find all female riders with trip duration greater than 5000 when it was cloudy. We'll only return the columns used during the boolean selection."
   ]
  },
  {
   "cell_type": "code",
   "execution_count": 13,
   "metadata": {},
   "outputs": [
    {
     "data": {
      "text/html": [
       "<div>\n",
       "<style scoped>\n",
       "    .dataframe tbody tr th:only-of-type {\n",
       "        vertical-align: middle;\n",
       "    }\n",
       "\n",
       "    .dataframe tbody tr th {\n",
       "        vertical-align: top;\n",
       "    }\n",
       "\n",
       "    .dataframe thead th {\n",
       "        text-align: right;\n",
       "    }\n",
       "</style>\n",
       "<table border=\"1\" class=\"dataframe\">\n",
       "  <thead>\n",
       "    <tr style=\"text-align: right;\">\n",
       "      <th></th>\n",
       "      <th>gender</th>\n",
       "      <th>tripduration</th>\n",
       "      <th>events</th>\n",
       "    </tr>\n",
       "    <tr>\n",
       "      <th>starttime</th>\n",
       "      <th></th>\n",
       "      <th></th>\n",
       "      <th></th>\n",
       "    </tr>\n",
       "  </thead>\n",
       "  <tbody>\n",
       "    <tr>\n",
       "      <th>2014-04-15 15:56:00</th>\n",
       "      <td>Female</td>\n",
       "      <td>79988</td>\n",
       "      <td>cloudy</td>\n",
       "    </tr>\n",
       "    <tr>\n",
       "      <th>2015-07-08 14:52:00</th>\n",
       "      <td>Female</td>\n",
       "      <td>7197</td>\n",
       "      <td>cloudy</td>\n",
       "    </tr>\n",
       "    <tr>\n",
       "      <th>2016-03-15 12:44:00</th>\n",
       "      <td>Female</td>\n",
       "      <td>13205</td>\n",
       "      <td>cloudy</td>\n",
       "    </tr>\n",
       "    <tr>\n",
       "      <th>2017-02-28 15:07:00</th>\n",
       "      <td>Female</td>\n",
       "      <td>19922</td>\n",
       "      <td>cloudy</td>\n",
       "    </tr>\n",
       "  </tbody>\n",
       "</table>\n",
       "</div>"
      ],
      "text/plain": [
       "                     gender  tripduration  events\n",
       "starttime                                        \n",
       "2014-04-15 15:56:00  Female         79988  cloudy\n",
       "2015-07-08 14:52:00  Female          7197  cloudy\n",
       "2016-03-15 12:44:00  Female         13205  cloudy\n",
       "2017-02-28 15:07:00  Female         19922  cloudy"
      ]
     },
     "execution_count": 13,
     "metadata": {},
     "output_type": "execute_result"
    }
   ],
   "source": [
    "filt1 = bikes['gender'] == 'Female'\n",
    "filt2 = bikes['tripduration'] > 5000\n",
    "filt3 = bikes['events'] == 'cloudy'\n",
    "filt = filt1 & filt2 & filt3\n",
    "cols = ['gender', 'tripduration', 'events']\n",
    "bikes.loc[filt, cols]"
   ]
  },
  {
   "cell_type": "markdown",
   "metadata": {},
   "source": [
    "## Column to column comparisons\n",
    "So far, we have created filters by comparing each of our column values to a single scalar value. It is possible to do element-by-element comparisons by comparing two columns to one another. For instance, the total bike capacity at the each station at the start and end of the ride is stored in the `dpcapacity_start` and `dpcapacity_end` columns. If we wanted to test whether there were more capacity at the start of the ride vs the end, we would do the following:"
   ]
  },
  {
   "cell_type": "code",
   "execution_count": 14,
   "metadata": {},
   "outputs": [],
   "source": [
    "filt = bikes['dpcapacity_start'] > bikes['dpcapacity_end']"
   ]
  },
  {
   "cell_type": "markdown",
   "metadata": {},
   "source": [
    "Let's use this filter with `loc` to return all the rows where the start capacity is greater than the end."
   ]
  },
  {
   "cell_type": "code",
   "execution_count": 15,
   "metadata": {},
   "outputs": [
    {
     "data": {
      "text/html": [
       "<div>\n",
       "<style scoped>\n",
       "    .dataframe tbody tr th:only-of-type {\n",
       "        vertical-align: middle;\n",
       "    }\n",
       "\n",
       "    .dataframe tbody tr th {\n",
       "        vertical-align: top;\n",
       "    }\n",
       "\n",
       "    .dataframe thead th {\n",
       "        text-align: right;\n",
       "    }\n",
       "</style>\n",
       "<table border=\"1\" class=\"dataframe\">\n",
       "  <thead>\n",
       "    <tr style=\"text-align: right;\">\n",
       "      <th></th>\n",
       "      <th>dpcapacity_start</th>\n",
       "      <th>dpcapacity_end</th>\n",
       "    </tr>\n",
       "    <tr>\n",
       "      <th>starttime</th>\n",
       "      <th></th>\n",
       "      <th></th>\n",
       "    </tr>\n",
       "  </thead>\n",
       "  <tbody>\n",
       "    <tr>\n",
       "      <th>2013-06-28 22:53:00</th>\n",
       "      <td>31.0</td>\n",
       "      <td>19.0</td>\n",
       "    </tr>\n",
       "    <tr>\n",
       "      <th>2013-07-02 17:47:00</th>\n",
       "      <td>31.0</td>\n",
       "      <td>19.0</td>\n",
       "    </tr>\n",
       "    <tr>\n",
       "      <th>2013-07-03 15:21:00</th>\n",
       "      <td>31.0</td>\n",
       "      <td>15.0</td>\n",
       "    </tr>\n",
       "  </tbody>\n",
       "</table>\n",
       "</div>"
      ],
      "text/plain": [
       "                     dpcapacity_start  dpcapacity_end\n",
       "starttime                                            \n",
       "2013-06-28 22:53:00              31.0            19.0\n",
       "2013-07-02 17:47:00              31.0            19.0\n",
       "2013-07-03 15:21:00              31.0            15.0"
      ]
     },
     "execution_count": 15,
     "metadata": {},
     "output_type": "execute_result"
    }
   ],
   "source": [
    "cols = ['dpcapacity_start', 'dpcapacity_end']\n",
    "bikes.loc[filt, cols].head(3)"
   ]
  },
  {
   "cell_type": "markdown",
   "metadata": {},
   "source": [
    "### Boolean selection with `iloc` does not work\n",
    "The pandas developers decided not to allow boolean selection with `iloc`."
   ]
  },
  {
   "cell_type": "markdown",
   "metadata": {},
   "source": [
    "## Finding Missing Values with `isna`\n",
    "The `isna` method called from either a DataFrame or a Series returns `True` for every value that is missing and `False` for any other value. Let's see this in action by calling `isna` on the start capacity column."
   ]
  },
  {
   "cell_type": "code",
   "execution_count": 18,
   "metadata": {},
   "outputs": [
    {
     "data": {
      "text/plain": [
       "starttime\n",
       "2013-06-28 19:01:00    False\n",
       "2013-06-28 22:53:00    False\n",
       "2013-06-30 14:43:00    False\n",
       "Name: dpcapacity_start, dtype: bool"
      ]
     },
     "execution_count": 18,
     "metadata": {},
     "output_type": "execute_result"
    }
   ],
   "source": [
    "bikes['dpcapacity_start'].isna().head(3)"
   ]
  },
  {
   "cell_type": "markdown",
   "metadata": {},
   "source": [
    "### Filtering for missing values\n",
    "\n",
    "We can now use this boolean Series to select all the rows where the capacity start column is missing. Verify that those values are indeed missing. "
   ]
  },
  {
   "cell_type": "code",
   "execution_count": 19,
   "metadata": {},
   "outputs": [
    {
     "data": {
      "text/html": [
       "<div>\n",
       "<style scoped>\n",
       "    .dataframe tbody tr th:only-of-type {\n",
       "        vertical-align: middle;\n",
       "    }\n",
       "\n",
       "    .dataframe tbody tr th {\n",
       "        vertical-align: top;\n",
       "    }\n",
       "\n",
       "    .dataframe thead th {\n",
       "        text-align: right;\n",
       "    }\n",
       "</style>\n",
       "<table border=\"1\" class=\"dataframe\">\n",
       "  <thead>\n",
       "    <tr style=\"text-align: right;\">\n",
       "      <th></th>\n",
       "      <th>trip_id</th>\n",
       "      <th>usertype</th>\n",
       "      <th>gender</th>\n",
       "      <th>stoptime</th>\n",
       "      <th>tripduration</th>\n",
       "      <th>from_station_name</th>\n",
       "      <th>latitude_start</th>\n",
       "      <th>longitude_start</th>\n",
       "      <th>dpcapacity_start</th>\n",
       "      <th>to_station_name</th>\n",
       "      <th>latitude_end</th>\n",
       "      <th>longitude_end</th>\n",
       "      <th>dpcapacity_end</th>\n",
       "      <th>temperature</th>\n",
       "      <th>visibility</th>\n",
       "      <th>wind_speed</th>\n",
       "      <th>precipitation</th>\n",
       "      <th>events</th>\n",
       "    </tr>\n",
       "    <tr>\n",
       "      <th>starttime</th>\n",
       "      <th></th>\n",
       "      <th></th>\n",
       "      <th></th>\n",
       "      <th></th>\n",
       "      <th></th>\n",
       "      <th></th>\n",
       "      <th></th>\n",
       "      <th></th>\n",
       "      <th></th>\n",
       "      <th></th>\n",
       "      <th></th>\n",
       "      <th></th>\n",
       "      <th></th>\n",
       "      <th></th>\n",
       "      <th></th>\n",
       "      <th></th>\n",
       "      <th></th>\n",
       "      <th></th>\n",
       "    </tr>\n",
       "  </thead>\n",
       "  <tbody>\n",
       "    <tr>\n",
       "      <th>2015-09-06 07:52:00</th>\n",
       "      <td>7319012</td>\n",
       "      <td>Subscriber</td>\n",
       "      <td>Male</td>\n",
       "      <td>2015-09-06 07:55:00</td>\n",
       "      <td>207</td>\n",
       "      <td>Clark St &amp; 9th St (AMLI)</td>\n",
       "      <td>NaN</td>\n",
       "      <td>NaN</td>\n",
       "      <td>NaN</td>\n",
       "      <td>Federal St &amp; Polk St</td>\n",
       "      <td>41.872078</td>\n",
       "      <td>-87.629544</td>\n",
       "      <td>19.0</td>\n",
       "      <td>75.0</td>\n",
       "      <td>10.0</td>\n",
       "      <td>4.6</td>\n",
       "      <td>-9999.0</td>\n",
       "      <td>mostlycloudy</td>\n",
       "    </tr>\n",
       "    <tr>\n",
       "      <th>2015-09-07 09:52:00</th>\n",
       "      <td>7341764</td>\n",
       "      <td>Subscriber</td>\n",
       "      <td>Female</td>\n",
       "      <td>2015-09-07 09:57:00</td>\n",
       "      <td>293</td>\n",
       "      <td>Clark St &amp; 9th St (AMLI)</td>\n",
       "      <td>NaN</td>\n",
       "      <td>NaN</td>\n",
       "      <td>NaN</td>\n",
       "      <td>Wabash Ave &amp; 8th St</td>\n",
       "      <td>41.871962</td>\n",
       "      <td>-87.626106</td>\n",
       "      <td>19.0</td>\n",
       "      <td>81.0</td>\n",
       "      <td>10.0</td>\n",
       "      <td>8.1</td>\n",
       "      <td>-9999.0</td>\n",
       "      <td>mostlycloudy</td>\n",
       "    </tr>\n",
       "    <tr>\n",
       "      <th>2015-09-15 08:25:00</th>\n",
       "      <td>7468970</td>\n",
       "      <td>Subscriber</td>\n",
       "      <td>Male</td>\n",
       "      <td>2015-09-15 08:33:00</td>\n",
       "      <td>473</td>\n",
       "      <td>Clark St &amp; 9th St (AMLI)</td>\n",
       "      <td>NaN</td>\n",
       "      <td>NaN</td>\n",
       "      <td>NaN</td>\n",
       "      <td>Franklin St &amp; Monroe St</td>\n",
       "      <td>41.881469</td>\n",
       "      <td>-87.635177</td>\n",
       "      <td>27.0</td>\n",
       "      <td>68.0</td>\n",
       "      <td>10.0</td>\n",
       "      <td>9.2</td>\n",
       "      <td>-9999.0</td>\n",
       "      <td>mostlycloudy</td>\n",
       "    </tr>\n",
       "  </tbody>\n",
       "</table>\n",
       "</div>"
      ],
      "text/plain": [
       "                     trip_id    usertype  gender            stoptime  \\\n",
       "starttime                                                              \n",
       "2015-09-06 07:52:00  7319012  Subscriber    Male 2015-09-06 07:55:00   \n",
       "2015-09-07 09:52:00  7341764  Subscriber  Female 2015-09-07 09:57:00   \n",
       "2015-09-15 08:25:00  7468970  Subscriber    Male 2015-09-15 08:33:00   \n",
       "\n",
       "                     tripduration         from_station_name  latitude_start  \\\n",
       "starttime                                                                     \n",
       "2015-09-06 07:52:00           207  Clark St & 9th St (AMLI)             NaN   \n",
       "2015-09-07 09:52:00           293  Clark St & 9th St (AMLI)             NaN   \n",
       "2015-09-15 08:25:00           473  Clark St & 9th St (AMLI)             NaN   \n",
       "\n",
       "                     longitude_start  dpcapacity_start  \\\n",
       "starttime                                                \n",
       "2015-09-06 07:52:00              NaN               NaN   \n",
       "2015-09-07 09:52:00              NaN               NaN   \n",
       "2015-09-15 08:25:00              NaN               NaN   \n",
       "\n",
       "                             to_station_name  latitude_end  longitude_end  \\\n",
       "starttime                                                                   \n",
       "2015-09-06 07:52:00     Federal St & Polk St     41.872078     -87.629544   \n",
       "2015-09-07 09:52:00      Wabash Ave & 8th St     41.871962     -87.626106   \n",
       "2015-09-15 08:25:00  Franklin St & Monroe St     41.881469     -87.635177   \n",
       "\n",
       "                     dpcapacity_end  temperature  visibility  wind_speed  \\\n",
       "starttime                                                                  \n",
       "2015-09-06 07:52:00            19.0         75.0        10.0         4.6   \n",
       "2015-09-07 09:52:00            19.0         81.0        10.0         8.1   \n",
       "2015-09-15 08:25:00            27.0         68.0        10.0         9.2   \n",
       "\n",
       "                     precipitation        events  \n",
       "starttime                                         \n",
       "2015-09-06 07:52:00        -9999.0  mostlycloudy  \n",
       "2015-09-07 09:52:00        -9999.0  mostlycloudy  \n",
       "2015-09-15 08:25:00        -9999.0  mostlycloudy  "
      ]
     },
     "execution_count": 19,
     "metadata": {},
     "output_type": "execute_result"
    }
   ],
   "source": [
    "filt = bikes['dpcapacity_start'].isna()\n",
    "bikes[filt].head(3)"
   ]
  },
  {
   "cell_type": "markdown",
   "metadata": {},
   "source": [
    "### `isnull` is an alias for `isna`\n",
    "There is an identical method named `isnull` that you will see in other tutorials. It is an **alias** of `isna` meaning it does the exact same thing but has a different name. Either one is suitable to use, but I prefer `isna` because of the similarity to **NaN**, the representation of missing values. There are also other methods such as `dropna` and `fillna` that use the 'na' in their method names."
   ]
  },
  {
   "cell_type": "code",
   "execution_count": null,
   "metadata": {},
   "outputs": [],
   "source": [
    "\n"
   ]
  }
 ],
 "metadata": {
  "kernelspec": {
   "display_name": "Python 3 (ipykernel)",
   "language": "python",
   "name": "python3"
  },
  "language_info": {
   "codemirror_mode": {
    "name": "ipython",
    "version": 3
   },
   "file_extension": ".py",
   "mimetype": "text/x-python",
   "name": "python",
   "nbconvert_exporter": "python",
   "pygments_lexer": "ipython3",
   "version": "3.8.8"
  },
  "varInspector": {
   "cols": {
    "lenName": 16,
    "lenType": 16,
    "lenVar": 40
   },
   "kernels_config": {
    "python": {
     "delete_cmd_postfix": "",
     "delete_cmd_prefix": "del ",
     "library": "var_list.py",
     "varRefreshCmd": "print(var_dic_list())"
    },
    "r": {
     "delete_cmd_postfix": ") ",
     "delete_cmd_prefix": "rm(",
     "library": "var_list.r",
     "varRefreshCmd": "cat(var_dic_list()) "
    }
   },
   "types_to_exclude": [
    "module",
    "function",
    "builtin_function_or_method",
    "instance",
    "_Feature"
   ],
   "window_display": false
  }
 },
 "nbformat": 4,
 "nbformat_minor": 4
}
