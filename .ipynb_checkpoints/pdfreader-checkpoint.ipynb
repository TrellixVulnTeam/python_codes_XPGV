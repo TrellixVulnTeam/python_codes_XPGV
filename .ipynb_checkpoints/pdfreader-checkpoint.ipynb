{
 "cells": [
  {
   "cell_type": "markdown",
   "id": "aa8c0a3f-898b-4acb-814d-d755d34d0fce",
   "metadata": {
    "tags": []
   },
   "source": [
    "# With tabula-py\n"
   ]
  },
  {
   "cell_type": "code",
   "execution_count": 40,
   "id": "ceae76f5-f957-48eb-b484-2628b40ca4ad",
   "metadata": {},
   "outputs": [],
   "source": [
    "from PyPDF2 import PdfFileReader, PdfFileWriter\n"
   ]
  },
  {
   "cell_type": "code",
   "execution_count": 152,
   "id": "927532d3-156a-4471-a823-ca436cfe3a4b",
   "metadata": {},
   "outputs": [
    {
     "name": "stdout",
     "output_type": "stream",
     "text": [
      "Requirement already satisfied: tabula-py in /home/knoldus/anaconda3/lib/python3.8/site-packages (2.3.0)\n",
      "Requirement already satisfied: distro in /home/knoldus/anaconda3/lib/python3.8/site-packages (from tabula-py) (1.6.0)\n",
      "Requirement already satisfied: numpy in /home/knoldus/.local/lib/python3.8/site-packages (from tabula-py) (1.21.2)\n",
      "Requirement already satisfied: pandas>=0.25.3 in /home/knoldus/.local/lib/python3.8/site-packages (from tabula-py) (1.3.3)\n",
      "Requirement already satisfied: python-dateutil>=2.7.3 in /home/knoldus/anaconda3/lib/python3.8/site-packages (from pandas>=0.25.3->tabula-py) (2.8.1)\n",
      "Requirement already satisfied: pytz>=2017.3 in /home/knoldus/anaconda3/lib/python3.8/site-packages (from pandas>=0.25.3->tabula-py) (2021.1)\n",
      "Requirement already satisfied: six>=1.5 in /home/knoldus/anaconda3/lib/python3.8/site-packages (from python-dateutil>=2.7.3->pandas>=0.25.3->tabula-py) (1.15.0)\n",
      "Requirement already satisfied: tabulate in /home/knoldus/anaconda3/lib/python3.8/site-packages (0.8.9)\n",
      "done installation\n"
     ]
    }
   ],
   "source": [
    "!pip install tabula-py\n",
    "!pip install tabulate\n",
    "print(\"done installation\")"
   ]
  },
  {
   "cell_type": "code",
   "execution_count": 224,
   "id": "04e96725-918d-40fb-92f0-9cffd3226fad",
   "metadata": {},
   "outputs": [],
   "source": [
    "import tabula\n",
    "from tabulate import tabulate"
   ]
  },
  {
   "cell_type": "code",
   "execution_count": 229,
   "id": "ad82f84b-bbd6-40b4-b705-206c6b3664fa",
   "metadata": {},
   "outputs": [],
   "source": [
    "loc=\"PDF/08122021_113706.pdf\""
   ]
  },
  {
   "cell_type": "code",
   "execution_count": 230,
   "id": "e4417e90-1647-4207-a6ec-3cf7c425d874",
   "metadata": {},
   "outputs": [
    {
     "name": "stdout",
     "output_type": "stream",
     "text": [
      "done\n"
     ]
    },
    {
     "data": {
      "text/plain": [
       "[     1.         Name of the Post    :  \\\n",
       " 0   NaN                      NaN  NaN   \n",
       " 1   NaN                      NaN  NaN   \n",
       " 2    2.     Number of consultant    :   \n",
       " 3   NaN                 required  NaN   \n",
       " 4    3.                    Terms    :   \n",
       " 5   NaN                      NaN  NaN   \n",
       " 6   NaN                      NaN  NaN   \n",
       " 7    3,            Qualification    :   \n",
       " 8   NaN                      NaN  NaN   \n",
       " 9   NaN                      NaN  NaN   \n",
       " 10  NaN                      NaN  NaN   \n",
       " 11  NaN                      NaN  NaN   \n",
       " 12  NaN                      NaN  NaN   \n",
       " 13  NaN                      NaN  NaN   \n",
       " 14  NaN                      NaN  NaN   \n",
       " 15  NaN                      NaN  NaN   \n",
       " 16  NaN                      NaN  NaN   \n",
       " 17  NaN                      NaN  NaN   \n",
       " 18  NaN                      NaN  NaN   \n",
       " 19  NaN                      NaN  NaN   \n",
       " 20  NaN                      NaN  NaN   \n",
       " 21   4.               Experience    :   \n",
       " 22  NaN                      NaN  NaN   \n",
       " 23   5.               Duties and  NaN   \n",
       " 24  NaN  responsibilities of the  NaN   \n",
       " 25  NaN              Consultant:  NaN   \n",
       " 26  NaN                      NaN  NaN   \n",
       " 27  NaN                      NaN  NaN   \n",
       " \n",
       "                                       Consultant in        the  \\\n",
       " 0           Conciliation Project Committee, Supreme        NaN   \n",
       " 1                        Court of India , New Delhi        NaN   \n",
       " 2                                               One        NaN   \n",
       " 3                                               NaN        NaN   \n",
       " 4       The post  is  purely  temporary  in  nature        NaN   \n",
       " 5   initially,  for  one  year  from  the  date  of        NaN   \n",
       " 6                                       engagement.        NaN   \n",
       " 7           Candidate must be a law graduate (as on        NaN   \n",
       " 8         the date of  applying)  having a Bachelor        NaN   \n",
       " 9      Degree  in  law  (three  years  professional        NaN   \n",
       " 10       course),  Five years (including Integrated        NaN   \n",
       " 11                                    Degree Course         in   \n",
       " 12                       School/College/University/        NaN   \n",
       " 13                                   established by        law   \n",
       " 14       recognized by the Bar Council of India for        NaN   \n",
       " 15                       enrollment as an Advocate.        NaN   \n",
       " 16        The  candidate  must  have  knowledge  of        NaN   \n",
       " 17      computer  including  retrieval  of  desired        NaN   \n",
       " 18                                 information from        NaN   \n",
       " 19          engines/processes  such  as  Manupatra,        NaN   \n",
       " 20            SCC Online, LexisNexis, Westlaw. Etc.        NaN   \n",
       " 21                                      One year in        the   \n",
       " 22                (as on the date of advertisement)        NaN   \n",
       " 23         The Consultant  will  share  some burden        NaN   \n",
       " 24        of the staff of the MCPC and also conduct        NaN   \n",
       " 25                                      independent  research,   \n",
       " 26                                   documentation,        and   \n",
       " 27                                 He/She  will  be   expected   \n",
       " \n",
       "          Mediation    and  \n",
       " 0              NaN    NaN  \n",
       " 1              NaN    NaN  \n",
       " 2              NaN    NaN  \n",
       " 3              NaN    NaN  \n",
       " 4              NaN    NaN  \n",
       " 5              NaN    NaN  \n",
       " 6              NaN    NaN  \n",
       " 7              NaN    NaN  \n",
       " 8              NaN    NaN  \n",
       " 9              NaN    NaN  \n",
       " 10             NaN    NaN  \n",
       " 11       Law) from    any  \n",
       " 12     Institution    NaN  \n",
       " 13        in India    and  \n",
       " 14             NaN    NaN  \n",
       " 15             NaN    NaN  \n",
       " 16             NaN    NaN  \n",
       " 17             NaN    NaN  \n",
       " 18  various search    NaN  \n",
       " 19             NaN    NaN  \n",
       " 20             NaN    NaN  \n",
       " 21        field of    Law  \n",
       " 22             NaN    NaN  \n",
       " 23             NaN    NaN  \n",
       " 24             NaN    NaN  \n",
       " 25         prepare    NaN  \n",
       " 26     statistical  data.  \n",
       " 27     to  suggest    NaN  ,\n",
       "     Unnamed: 0          Unnamed: 1 Unnamed: 2  \\\n",
       " 0          NaN                 NaN        NaN   \n",
       " 1          NaN                 NaN        NaN   \n",
       " 2          NaN                 NaN        NaN   \n",
       " 3          NaN                 NaN        NaN   \n",
       " 4          NaN                 NaN        NaN   \n",
       " 5          NaN                 NaN        NaN   \n",
       " 6          NaN                 NaN        NaN   \n",
       " 7          NaN                 NaN        NaN   \n",
       " 8          NaN                 NaN        NaN   \n",
       " 9          6.0           Age Limit          :   \n",
       " 10         NaN                 NaN        NaN   \n",
       " 11         7.0        Remuneration          :   \n",
       " 12         NaN                 NaN        NaN   \n",
       " 13         NaN                 NaN        NaN   \n",
       " 14         NaN                 NaN        NaN   \n",
       " 15         8.0          Allowances          :   \n",
       " 16         NaN                 NaN        NaN   \n",
       " 17         NaN                 NaN        NaN   \n",
       " 18         NaN                 NaN        NaN   \n",
       " 19         NaN                 NaN        NaN   \n",
       " 20         NaN                 NaN        NaN   \n",
       " 21         9.0               Leave          :   \n",
       " 22         NaN                 NaN        NaN   \n",
       " 23         NaN                 NaN        NaN   \n",
       " 24         NaN                 NaN        NaN   \n",
       " 25         NaN                 NaN        NaN   \n",
       " 26         NaN                 NaN        NaN   \n",
       " 27         NaN                 NaN        NaN   \n",
       " 28         NaN                 NaN        NaN   \n",
       " 29         NaN                 NaN        NaN   \n",
       " 30         NaN                 NaN        NaN   \n",
       " 31         NaN                 NaN        NaN   \n",
       " 32         NaN                 NaN        NaN   \n",
       " 33         NaN                 NaN        NaN   \n",
       " 34        10.0               TA/DA          :   \n",
       " 35         NaN                 NaN        NaN   \n",
       " 36         NaN                 NaN        NaN   \n",
       " 37         NaN                 NaN        NaN   \n",
       " 38         NaN                 NaN        NaN   \n",
       " 39         NaN                 NaN        NaN   \n",
       " 40         NaN                 NaN        NaN   \n",
       " 41        11.0  Termination Notice          :   \n",
       " \n",
       "                                  remedial  steps   (if         any)       and  \\\n",
       " 0   positive actions taken (if  any)  so that  a   NaN          NaN       NaN   \n",
       " 1      series of best practices are evolved over   NaN          NaN       NaN   \n",
       " 2                                     the years.   NaN          NaN       NaN   \n",
       " 3                                     There will    be   additional       NaN   \n",
       " 4       miscellaneous administrative duties that   NaN          NaN       NaN   \n",
       " 5                                the  consultant  will           be  required   \n",
       " 6       perform,  such  as  organizing  seminars   NaN          NaN       NaN   \n",
       " 7     and  group  discussions  with  experts  on   NaN          NaN       NaN   \n",
       " 8                 the subject of Mediation  etc.   NaN          NaN       NaN   \n",
       " 9         Candidate should not be above 25 years   NaN          NaN       NaN   \n",
       " 10    of age on the closing date of application.   NaN          NaN       NaN   \n",
       " 11                                Maximum amount   NaN           of   monthly   \n",
       " 12    consolidated  fee  payable  to  Consultant   NaN          NaN       NaN   \n",
       " 13       shall  be  Rs.40,000/-  per  month  and   NaN          NaN       NaN   \n",
       " 14                  deduction of applicable tax.   NaN          NaN       NaN   \n",
       " 15  Candidate  shall  not  be  entitled  to  any   NaN          NaN       NaN   \n",
       " 16     allowance  such  as  Dearness  allowance,   NaN          NaN       NaN   \n",
       " 17    Residential Telephone, Transport Facility,   NaN          NaN       NaN   \n",
       " 18                    Residential Accommodation,   NaN          NaN  Personal   \n",
       " 19         Staff, CGHS and Medical Reimbursement   NaN          NaN       NaN   \n",
       " 20                                          etc.   NaN          NaN       NaN   \n",
       " 21   The Candidate shall be eligible for 8 days’   NaN          NaN       NaN   \n",
       " 22    leave  in  a  calendar  year  on  pro-rata   NaN          NaN       NaN   \n",
       " 23   basis.  Therefore,  a Consultant shall  not   NaN          NaN       NaN   \n",
       " 24      draw any remuneration in case of his/her   NaN          NaN       NaN   \n",
       " 25                               absence  beyond     8         days        in   \n",
       " 26         (calculated  on  a  pro-rata  basis).   NaN          NaN       NaN   \n",
       " 27                             un-availed  leave    in  a  calendar       NaN   \n",
       " 28                           cannot  be  carried   NaN      forward        to   \n",
       " 29           calendar year.The  MCPC would be at   NaN          NaN       NaN   \n",
       " 30    liberty to terminate the services, in case   NaN          NaN       NaN   \n",
       " 31      of absence of a candidate, for more than   NaN          NaN       NaN   \n",
       " 32     15 days,  beyond the entitled leave in  a   NaN          NaN       NaN   \n",
       " 33                                calendar year.   NaN          NaN       NaN   \n",
       " 34      No TA/DA shall be admissible for joining   NaN          NaN       NaN   \n",
       " 35     the  assignment  or  on  its  completion.   NaN          NaN       NaN   \n",
       " 36   Candidates  will  not  be  allowed  foreign   NaN          NaN       NaN   \n",
       " 37      travel at Government expenses.  However,   NaN          NaN       NaN   \n",
       " 38    Consultants, shall be allowed TA for their   NaN          NaN       NaN   \n",
       " 39                             travel inside the   NaN      country      only   \n",
       " 40            connection with the official work.   NaN          NaN       NaN   \n",
       " 41        The MCPC can cancel the appointment at   NaN          NaN       NaN   \n",
       " \n",
       "    identify  \n",
       " 0       NaN  \n",
       " 1       NaN  \n",
       " 2       NaN  \n",
       " 3       and  \n",
       " 4       NaN  \n",
       " 5        to  \n",
       " 6       NaN  \n",
       " 7       NaN  \n",
       " 8       NaN  \n",
       " 9       NaN  \n",
       " 10      NaN  \n",
       " 11      NaN  \n",
       " 12      NaN  \n",
       " 13      NaN  \n",
       " 14      NaN  \n",
       " 15      NaN  \n",
       " 16      NaN  \n",
       " 17      NaN  \n",
       " 18      NaN  \n",
       " 19      NaN  \n",
       " 20      NaN  \n",
       " 21      NaN  \n",
       " 22      NaN  \n",
       " 23      NaN  \n",
       " 24      NaN  \n",
       " 25  a  Year  \n",
       " 26     Also  \n",
       " 27     year  \n",
       " 28     next  \n",
       " 29      NaN  \n",
       " 30      NaN  \n",
       " 31      NaN  \n",
       " 32      NaN  \n",
       " 33      NaN  \n",
       " 34      NaN  \n",
       " 35      NaN  \n",
       " 36      NaN  \n",
       " 37      NaN  \n",
       " 38      NaN  \n",
       " 39       in  \n",
       " 40      NaN  \n",
       " 41      NaN  ,\n",
       "                                           Unnamed: 0  Unnamed: 1  Unnamed: 2  \\\n",
       " 0  Interested applicants may submit application i...         NaN         NaN   \n",
       " \n",
       "    any  time  without  providing  any  reason\\rand  without  anyprior  notice.The\\rcandidate  can also seek termination of\\rthe  contract,  upon  giving  one  month’s\\rnotice to the MCPC.  \n",
       " 0                                                NaN                                                                                                                                         ,\n",
       "    S.No.  Course  Subject  University/Institute  Year of  Division/Class\n",
       " 0    NaN     NaN      NaN                   NaN  Passing             NaN,\n",
       "    S.No. Organization/Institute Period Period.1  Nature of  Remarks\n",
       " 0    NaN      with full address   from       to       Work      NaN\n",
       " 1    NaN                    NaN    NaN      NaN  performed      NaN,\n",
       "    S.No.  Course  Subject  University/Institute  Year of  Division/Class\n",
       " 0    NaN     NaN      NaN                   NaN  Passing             NaN,\n",
       "    S.No. Organization/Institute Period  Period to Nature of Work  Remarks\n",
       " 0    NaN      with full address   from        NaN      performed      NaN]"
      ]
     },
     "execution_count": 230,
     "metadata": {},
     "output_type": "execute_result"
    }
   ],
   "source": [
    "\n",
    "df = tabula.read_pdf(loc, pages='all')\n",
    "print(\"done\")\n",
    "df"
   ]
  },
  {
   "cell_type": "code",
   "execution_count": 228,
   "id": "20292bbe-8ada-4fce-8478-c44d768e797d",
   "metadata": {},
   "outputs": [],
   "source": [
    "tabula.convert_into(loc, \"output.csv\", output_format=\"csv\", pages='all')"
   ]
  },
  {
   "cell_type": "code",
   "execution_count": 181,
   "id": "c90189e3-d9e6-4aeb-8eda-8c3b19ddd7fa",
   "metadata": {},
   "outputs": [
    {
     "name": "stderr",
     "output_type": "stream",
     "text": [
      "'pages' argument isn't specified.Will extract only from page 1 by default.\n"
     ]
    },
    {
     "ename": "AttributeError",
     "evalue": "'list' object has no attribute 'dropna'",
     "output_type": "error",
     "traceback": [
      "\u001b[0;31m---------------------------------------------------------------------------\u001b[0m",
      "\u001b[0;31mAttributeError\u001b[0m                            Traceback (most recent call last)",
      "\u001b[0;32m/tmp/ipykernel_79161/2533316275.py\u001b[0m in \u001b[0;36m<module>\u001b[0;34m\u001b[0m\n\u001b[1;32m      1\u001b[0m \u001b[0mdf\u001b[0m \u001b[0;34m=\u001b[0m \u001b[0mtabula\u001b[0m\u001b[0;34m.\u001b[0m\u001b[0mread_pdf\u001b[0m\u001b[0;34m(\u001b[0m\u001b[0mloc\u001b[0m\u001b[0;34m)\u001b[0m\u001b[0;34m\u001b[0m\u001b[0;34m\u001b[0m\u001b[0m\n\u001b[0;32m----> 2\u001b[0;31m \u001b[0mdf\u001b[0m \u001b[0;34m=\u001b[0m \u001b[0mdf\u001b[0m\u001b[0;34m.\u001b[0m\u001b[0mdropna\u001b[0m\u001b[0;34m(\u001b[0m\u001b[0maxis\u001b[0m\u001b[0;34m=\u001b[0m\u001b[0;34m'columns'\u001b[0m\u001b[0;34m)\u001b[0m\u001b[0;34m\u001b[0m\u001b[0;34m\u001b[0m\u001b[0m\n\u001b[0m\u001b[1;32m      3\u001b[0m \u001b[0mdf\u001b[0m\u001b[0;34m\u001b[0m\u001b[0;34m\u001b[0m\u001b[0m\n",
      "\u001b[0;31mAttributeError\u001b[0m: 'list' object has no attribute 'dropna'"
     ]
    }
   ],
   "source": [
    "df = tabula.read_pdf(loc)\n",
    "df = df.dropna(axis='columns')\n",
    "df"
   ]
  },
  {
   "cell_type": "code",
   "execution_count": 146,
   "id": "1c053e73-1893-45f3-a0c5-1a9bdd696558",
   "metadata": {},
   "outputs": [
    {
     "ename": "TypeError",
     "evalue": "list indices must be integers or slices, not str",
     "output_type": "error",
     "traceback": [
      "\u001b[0;31m---------------------------------------------------------------------------\u001b[0m",
      "\u001b[0;31mTypeError\u001b[0m                                 Traceback (most recent call last)",
      "\u001b[0;32m/tmp/ipykernel_79161/2918396948.py\u001b[0m in \u001b[0;36m<module>\u001b[0;34m\u001b[0m\n\u001b[0;32m----> 1\u001b[0;31m \u001b[0mdf\u001b[0m\u001b[0;34m[\u001b[0m\u001b[0;34m'Belastung'\u001b[0m\u001b[0;34m]\u001b[0m\u001b[0;34m\u001b[0m\u001b[0;34m\u001b[0m\u001b[0m\n\u001b[0m",
      "\u001b[0;31mTypeError\u001b[0m: list indices must be integers or slices, not str"
     ]
    }
   ],
   "source": [
    "df['Belastung']"
   ]
  },
  {
   "cell_type": "code",
   "execution_count": 109,
   "id": "4cea0b03-4dea-41ec-ac53-421aedaf2142",
   "metadata": {},
   "outputs": [],
   "source": [
    "# df = tabula.read_pdf(\"dataset/2017/de/public transport/4GBEC9.pdf\", pages=3)\n",
    "# print (tabulate(df))"
   ]
  },
  {
   "cell_type": "code",
   "execution_count": 110,
   "id": "57d1fcfd-a2e6-4bcc-88e9-8a217ba832c9",
   "metadata": {},
   "outputs": [],
   "source": [
    "# df = tabula.read_pdf(\"dataset/2019/de/flights/norwegian_KPE6BN.pdf\", pages=3, output_format=\"json\")\n",
    "# df"
   ]
  },
  {
   "cell_type": "code",
   "execution_count": 111,
   "id": "9443447f-f9d9-4900-b3d8-6e6de54a98fe",
   "metadata": {},
   "outputs": [],
   "source": [
    "# df = tabula.read_pdf(\"FoodCaloriesList.pdf\", pages='all', multiple_tables=True)\n",
    "# df"
   ]
  },
  {
   "cell_type": "code",
   "execution_count": 113,
   "id": "4bd83aad-fc90-4d66-afc7-0d89a5c49c8c",
   "metadata": {},
   "outputs": [],
   "source": [
    "# df = tabula.read_pdf(\"FoodCaloriesList.pdf\", encoding = 'ISO-8859-1',\n",
    "#          stream=True, area = [269.875, 12.75, 790.5, 961], pages = 4, guess = False,  pandas_options={'header':None})\n",
    "# df"
   ]
  },
  {
   "cell_type": "markdown",
   "id": "2c1f9331-9afb-4c38-9804-e71f36dc5600",
   "metadata": {},
   "source": [
    "# With Camelot\n"
   ]
  },
  {
   "cell_type": "code",
   "execution_count": 54,
   "id": "5a6b5656-dfe4-45c3-9be7-4d0ef7678fea",
   "metadata": {},
   "outputs": [
    {
     "name": "stdout",
     "output_type": "stream",
     "text": [
      "Requirement already satisfied: camelot-py[all] in /home/knoldus/anaconda3/lib/python3.8/site-packages (0.10.1)\n",
      "Requirement already satisfied: chardet>=3.0.4 in /home/knoldus/anaconda3/lib/python3.8/site-packages (from camelot-py[all]) (4.0.0)\n",
      "Requirement already satisfied: pandas>=0.23.4 in /home/knoldus/.local/lib/python3.8/site-packages (from camelot-py[all]) (1.3.3)\n",
      "Requirement already satisfied: pdfminer.six>=20200726 in /home/knoldus/anaconda3/lib/python3.8/site-packages (from camelot-py[all]) (20211012)\n",
      "Requirement already satisfied: click>=6.7 in /home/knoldus/anaconda3/lib/python3.8/site-packages (from camelot-py[all]) (7.1.2)\n",
      "Requirement already satisfied: numpy>=1.13.3 in /home/knoldus/.local/lib/python3.8/site-packages (from camelot-py[all]) (1.21.2)\n",
      "Requirement already satisfied: openpyxl>=2.5.8 in /home/knoldus/.local/lib/python3.8/site-packages (from camelot-py[all]) (3.0.9)\n",
      "Requirement already satisfied: PyPDF2>=1.26.0 in /home/knoldus/anaconda3/lib/python3.8/site-packages (from camelot-py[all]) (1.26.0)\n",
      "Requirement already satisfied: tabulate>=0.8.9 in /home/knoldus/anaconda3/lib/python3.8/site-packages (from camelot-py[all]) (0.8.9)\n",
      "Collecting pdftopng>=0.2.3\n",
      "  Downloading pdftopng-0.2.3-cp38-cp38-manylinux2010_x86_64.whl (11.7 MB)\n",
      "     |████████████████████████████████| 11.7 MB 3.2 MB/s            \n",
      "\u001b[?25hRequirement already satisfied: matplotlib>=2.2.3 in /home/knoldus/.local/lib/python3.8/site-packages (from camelot-py[all]) (3.4.3)\n",
      "Collecting ghostscript>=0.7\n",
      "  Downloading ghostscript-0.7-py2.py3-none-any.whl (25 kB)\n",
      "Collecting opencv-python>=3.4.2.17\n",
      "  Downloading opencv_python-4.5.4.60-cp38-cp38-manylinux_2_17_x86_64.manylinux2014_x86_64.whl (60.3 MB)\n",
      "     |████████████████████████████████| 60.3 MB 3.4 MB/s            \n",
      "\u001b[?25hRequirement already satisfied: setuptools>=38.6.0 in /home/knoldus/anaconda3/lib/python3.8/site-packages (from ghostscript>=0.7->camelot-py[all]) (52.0.0.post20210125)\n",
      "Requirement already satisfied: cycler>=0.10 in /home/knoldus/.local/lib/python3.8/site-packages (from matplotlib>=2.2.3->camelot-py[all]) (0.10.0)\n",
      "Requirement already satisfied: python-dateutil>=2.7 in /home/knoldus/anaconda3/lib/python3.8/site-packages (from matplotlib>=2.2.3->camelot-py[all]) (2.8.1)\n",
      "Requirement already satisfied: pyparsing>=2.2.1 in /home/knoldus/.local/lib/python3.8/site-packages (from matplotlib>=2.2.3->camelot-py[all]) (2.4.7)\n",
      "Requirement already satisfied: kiwisolver>=1.0.1 in /home/knoldus/.local/lib/python3.8/site-packages (from matplotlib>=2.2.3->camelot-py[all]) (1.3.2)\n",
      "Requirement already satisfied: pillow>=6.2.0 in /home/knoldus/anaconda3/lib/python3.8/site-packages (from matplotlib>=2.2.3->camelot-py[all]) (8.2.0)\n",
      "Requirement already satisfied: et-xmlfile in /home/knoldus/.local/lib/python3.8/site-packages (from openpyxl>=2.5.8->camelot-py[all]) (1.1.0)\n",
      "Requirement already satisfied: pytz>=2017.3 in /home/knoldus/anaconda3/lib/python3.8/site-packages (from pandas>=0.23.4->camelot-py[all]) (2021.1)\n",
      "Requirement already satisfied: cryptography in /home/knoldus/anaconda3/lib/python3.8/site-packages (from pdfminer.six>=20200726->camelot-py[all]) (3.4.7)\n",
      "Requirement already satisfied: six in /home/knoldus/anaconda3/lib/python3.8/site-packages (from cycler>=0.10->matplotlib>=2.2.3->camelot-py[all]) (1.15.0)\n",
      "Requirement already satisfied: cffi>=1.12 in /home/knoldus/.local/lib/python3.8/site-packages (from cryptography->pdfminer.six>=20200726->camelot-py[all]) (1.15.0)\n",
      "Requirement already satisfied: pycparser in /home/knoldus/.local/lib/python3.8/site-packages (from cffi>=1.12->cryptography->pdfminer.six>=20200726->camelot-py[all]) (2.20)\n",
      "Installing collected packages: pdftopng, opencv-python, ghostscript\n",
      "Successfully installed ghostscript-0.7 opencv-python-4.5.4.60 pdftopng-0.2.3\n"
     ]
    }
   ],
   "source": [
    "!pip install camelot-py[all]\n",
    "\n",
    "\n"
   ]
  },
  {
   "cell_type": "code",
   "execution_count": 212,
   "id": "dd477c0b-baa1-4004-97b9-42d9367d7576",
   "metadata": {},
   "outputs": [
    {
     "data": {
      "text/plain": [
       "<TableList n=0>"
      ]
     },
     "execution_count": 212,
     "metadata": {},
     "output_type": "execute_result"
    }
   ],
   "source": [
    "import camelot\n",
    "tables = camelot.read_pdf(loc)\n",
    "tables"
   ]
  },
  {
   "cell_type": "code",
   "execution_count": 124,
   "id": "1b373819-511c-41a3-a501-eff293d4e5e8",
   "metadata": {},
   "outputs": [
    {
     "ename": "IndexError",
     "evalue": "list index out of range",
     "output_type": "error",
     "traceback": [
      "\u001b[0;31m---------------------------------------------------------------------------\u001b[0m",
      "\u001b[0;31mIndexError\u001b[0m                                Traceback (most recent call last)",
      "\u001b[0;32m/tmp/ipykernel_79161/3136879178.py\u001b[0m in \u001b[0;36m<module>\u001b[0;34m\u001b[0m\n\u001b[1;32m      1\u001b[0m \u001b[0mtables1\u001b[0m \u001b[0;34m=\u001b[0m \u001b[0mcamelot\u001b[0m\u001b[0;34m.\u001b[0m\u001b[0mread_pdf\u001b[0m\u001b[0;34m(\u001b[0m\u001b[0;34m\"dataset/2019/de/hotel/premierinn_GABCI19014325.pdf\"\u001b[0m\u001b[0;34m,\u001b[0m \u001b[0mpages\u001b[0m\u001b[0;34m=\u001b[0m\u001b[0;34m'all'\u001b[0m\u001b[0;34m,\u001b[0m \u001b[0marea\u001b[0m\u001b[0;34m=\u001b[0m\u001b[0;34m[\u001b[0m\u001b[0;36m269.875\u001b[0m\u001b[0;34m,\u001b[0m \u001b[0;36m120.75\u001b[0m\u001b[0;34m,\u001b[0m \u001b[0;36m790.5\u001b[0m\u001b[0;34m,\u001b[0m \u001b[0;36m561\u001b[0m\u001b[0;34m]\u001b[0m\u001b[0;34m)\u001b[0m\u001b[0;34m\u001b[0m\u001b[0;34m\u001b[0m\u001b[0m\n\u001b[0;32m----> 2\u001b[0;31m \u001b[0mprint\u001b[0m \u001b[0;34m(\u001b[0m\u001b[0mtabulate\u001b[0m\u001b[0;34m(\u001b[0m\u001b[0mtables1\u001b[0m\u001b[0;34m[\u001b[0m\u001b[0;36m0\u001b[0m\u001b[0;34m]\u001b[0m\u001b[0;34m.\u001b[0m\u001b[0mdf\u001b[0m\u001b[0;34m)\u001b[0m\u001b[0;34m)\u001b[0m\u001b[0;34m\u001b[0m\u001b[0;34m\u001b[0m\u001b[0m\n\u001b[0m",
      "\u001b[0;32m~/anaconda3/lib/python3.8/site-packages/camelot/core.py\u001b[0m in \u001b[0;36m__getitem__\u001b[0;34m(self, idx)\u001b[0m\n\u001b[1;32m    687\u001b[0m \u001b[0;34m\u001b[0m\u001b[0m\n\u001b[1;32m    688\u001b[0m     \u001b[0;32mdef\u001b[0m \u001b[0m__getitem__\u001b[0m\u001b[0;34m(\u001b[0m\u001b[0mself\u001b[0m\u001b[0;34m,\u001b[0m \u001b[0midx\u001b[0m\u001b[0;34m)\u001b[0m\u001b[0;34m:\u001b[0m\u001b[0;34m\u001b[0m\u001b[0;34m\u001b[0m\u001b[0m\n\u001b[0;32m--> 689\u001b[0;31m         \u001b[0;32mreturn\u001b[0m \u001b[0mself\u001b[0m\u001b[0;34m.\u001b[0m\u001b[0m_tables\u001b[0m\u001b[0;34m[\u001b[0m\u001b[0midx\u001b[0m\u001b[0;34m]\u001b[0m\u001b[0;34m\u001b[0m\u001b[0;34m\u001b[0m\u001b[0m\n\u001b[0m\u001b[1;32m    690\u001b[0m \u001b[0;34m\u001b[0m\u001b[0m\n\u001b[1;32m    691\u001b[0m     \u001b[0;34m@\u001b[0m\u001b[0mstaticmethod\u001b[0m\u001b[0;34m\u001b[0m\u001b[0;34m\u001b[0m\u001b[0m\n",
      "\u001b[0;31mIndexError\u001b[0m: list index out of range"
     ]
    }
   ],
   "source": [
    "tables1 = camelot.read_pdf(\"dataset/2019/de/hotel/premierinn_GABCI19014325.pdf\", pages='all', area=[269.875, 120.75, 790.5, 561])\n",
    "print (tabulate(tables1[0].df))"
   ]
  },
  {
   "cell_type": "code",
   "execution_count": 59,
   "id": "b7a50eb4-e43a-44b3-abff-b990d59fde97",
   "metadata": {},
   "outputs": [
    {
     "name": "stdout",
     "output_type": "stream",
     "text": [
      "30\n",
      "NOK\n",
      "31\n",
      "NOK\n",
      "32\n",
      "--  -------------\n",
      " 0  Mobile\n",
      "    Internet\n",
      " 1  Automation\n",
      "    of knowledge\n",
      "    work\n",
      " 2  The Internet\n",
      "    of Things\n",
      " 3  Cloud\n",
      "    technology\n",
      " 4  Advanced\n",
      "    robotics\n",
      " 5  Autonomous\n",
      "    and near-\n",
      "    autonomous\n",
      "    vehicles\n",
      " 6  Next-\n",
      "    generation\n",
      "    genomics\n",
      " 7  Energy\n",
      "    storage\n",
      " 8  3D printing\n",
      " 9  Advanced\n",
      "    materials\n",
      "10  Advanced oil\n",
      "    and gas\n",
      "    exploration\n",
      "    and recovery\n",
      "11  Renewable\n",
      "    energy\n",
      "--  -------------\n",
      "NOK\n",
      "33\n",
      "NOK\n",
      "34\n",
      "NOK\n"
     ]
    }
   ],
   "source": [
    "for i in range(30,35):\n",
    "    print (i)\n",
    "    tables = camelot.read_pdf(\"MGI_Disruptive_technologies_Full_report_May2013.pdf\", pages='%d' %  i)\n",
    "    try:\n",
    "        print (tabulate(tables[0].df))\n",
    "        print (tabulate(tables[1].df))\n",
    "    except IndexError:\n",
    "        print('NOK')"
   ]
  },
  {
   "cell_type": "markdown",
   "id": "d4f7d103-2801-4bc0-b20d-9026d1c46d78",
   "metadata": {},
   "source": [
    "# Extract by PyPDF2\n"
   ]
  },
  {
   "cell_type": "code",
   "execution_count": 60,
   "id": "d3a10eae-0a61-4867-91b7-c3380af66ca6",
   "metadata": {},
   "outputs": [
    {
     "name": "stdout",
     "output_type": "stream",
     "text": [
      "Requirement already satisfied: PyPDF2 in /home/knoldus/anaconda3/lib/python3.8/site-packages (1.26.0)\n"
     ]
    }
   ],
   "source": [
    "!pip install PyPDF2\n",
    "\n"
   ]
  },
  {
   "cell_type": "code",
   "execution_count": 150,
   "id": "9d0ad899-4eb9-4227-9a9a-c2d332718699",
   "metadata": {},
   "outputs": [
    {
     "name": "stdout",
     "output_type": "stream",
     "text": [
      "‹ê‹ê~~~‹ê~~~~~~~~~~~~~~~\n"
     ]
    }
   ],
   "source": [
    "import PyPDF2\n",
    "pdf_file = open('dataset/2019/de/hotel/citadines_08372561.pdf', 'rb')\n",
    "read_pdf = PyPDF2.PdfFileReader(pdf_file)\n",
    "number_of_pages = read_pdf.getNumPages()\n",
    "page = read_pdf.getPage(1)\n",
    "page_content = page.extractText()\n",
    "print (page_content)\n"
   ]
  },
  {
   "cell_type": "code",
   "execution_count": 151,
   "id": "158b2e6e-c758-4116-8a1f-5a5887bf9a55",
   "metadata": {},
   "outputs": [
    {
     "ename": "ValueError",
     "evalue": "number sections must be larger than 0.",
     "output_type": "error",
     "traceback": [
      "\u001b[0;31m---------------------------------------------------------------------------\u001b[0m",
      "\u001b[0;31mValueError\u001b[0m                                Traceback (most recent call last)",
      "\u001b[0;32m/tmp/ipykernel_79161/691595008.py\u001b[0m in \u001b[0;36m<module>\u001b[0;34m\u001b[0m\n\u001b[1;32m      2\u001b[0m \u001b[0;34m\u001b[0m\u001b[0m\n\u001b[1;32m      3\u001b[0m \u001b[0mtable_list\u001b[0m \u001b[0;34m=\u001b[0m \u001b[0mpage_content\u001b[0m\u001b[0;34m.\u001b[0m\u001b[0msplit\u001b[0m\u001b[0;34m(\u001b[0m\u001b[0;34m'\\n'\u001b[0m\u001b[0;34m)\u001b[0m\u001b[0;34m\u001b[0m\u001b[0;34m\u001b[0m\u001b[0m\n\u001b[0;32m----> 4\u001b[0;31m \u001b[0ml\u001b[0m \u001b[0;34m=\u001b[0m \u001b[0mnumpy\u001b[0m\u001b[0;34m.\u001b[0m\u001b[0marray_split\u001b[0m\u001b[0;34m(\u001b[0m\u001b[0mtable_list\u001b[0m\u001b[0;34m,\u001b[0m \u001b[0mlen\u001b[0m\u001b[0;34m(\u001b[0m\u001b[0mtable_list\u001b[0m\u001b[0;34m)\u001b[0m\u001b[0;34m/\u001b[0m\u001b[0;36m4\u001b[0m\u001b[0;34m)\u001b[0m\u001b[0;34m\u001b[0m\u001b[0;34m\u001b[0m\u001b[0m\n\u001b[0m\u001b[1;32m      5\u001b[0m \u001b[0;32mfor\u001b[0m \u001b[0mi\u001b[0m \u001b[0;32min\u001b[0m \u001b[0mrange\u001b[0m\u001b[0;34m(\u001b[0m\u001b[0;36m0\u001b[0m\u001b[0;34m,\u001b[0m\u001b[0;36m5\u001b[0m\u001b[0;34m)\u001b[0m\u001b[0;34m:\u001b[0m\u001b[0;34m\u001b[0m\u001b[0;34m\u001b[0m\u001b[0m\n\u001b[1;32m      6\u001b[0m     \u001b[0mprint\u001b[0m\u001b[0;34m(\u001b[0m\u001b[0ml\u001b[0m\u001b[0;34m[\u001b[0m\u001b[0mi\u001b[0m\u001b[0;34m]\u001b[0m\u001b[0;34m)\u001b[0m\u001b[0;34m\u001b[0m\u001b[0;34m\u001b[0m\u001b[0m\n",
      "\u001b[0;32m<__array_function__ internals>\u001b[0m in \u001b[0;36marray_split\u001b[0;34m(*args, **kwargs)\u001b[0m\n",
      "\u001b[0;32m~/.local/lib/python3.8/site-packages/numpy/lib/shape_base.py\u001b[0m in \u001b[0;36marray_split\u001b[0;34m(ary, indices_or_sections, axis)\u001b[0m\n\u001b[1;32m    776\u001b[0m         \u001b[0mNsections\u001b[0m \u001b[0;34m=\u001b[0m \u001b[0mint\u001b[0m\u001b[0;34m(\u001b[0m\u001b[0mindices_or_sections\u001b[0m\u001b[0;34m)\u001b[0m\u001b[0;34m\u001b[0m\u001b[0;34m\u001b[0m\u001b[0m\n\u001b[1;32m    777\u001b[0m         \u001b[0;32mif\u001b[0m \u001b[0mNsections\u001b[0m \u001b[0;34m<=\u001b[0m \u001b[0;36m0\u001b[0m\u001b[0;34m:\u001b[0m\u001b[0;34m\u001b[0m\u001b[0;34m\u001b[0m\u001b[0m\n\u001b[0;32m--> 778\u001b[0;31m             \u001b[0;32mraise\u001b[0m \u001b[0mValueError\u001b[0m\u001b[0;34m(\u001b[0m\u001b[0;34m'number sections must be larger than 0.'\u001b[0m\u001b[0;34m)\u001b[0m \u001b[0;32mfrom\u001b[0m \u001b[0;32mNone\u001b[0m\u001b[0;34m\u001b[0m\u001b[0;34m\u001b[0m\u001b[0m\n\u001b[0m\u001b[1;32m    779\u001b[0m         \u001b[0mNeach_section\u001b[0m\u001b[0;34m,\u001b[0m \u001b[0mextras\u001b[0m \u001b[0;34m=\u001b[0m \u001b[0mdivmod\u001b[0m\u001b[0;34m(\u001b[0m\u001b[0mNtotal\u001b[0m\u001b[0;34m,\u001b[0m \u001b[0mNsections\u001b[0m\u001b[0;34m)\u001b[0m\u001b[0;34m\u001b[0m\u001b[0;34m\u001b[0m\u001b[0m\n\u001b[1;32m    780\u001b[0m         section_sizes = ([0] +\n",
      "\u001b[0;31mValueError\u001b[0m: number sections must be larger than 0."
     ]
    }
   ],
   "source": [
    "import numpy\n",
    "\n",
    "table_list = page_content.split('\\n')\n",
    "l = numpy.array_split(table_list, len(table_list)/4)\n",
    "for i in range(0,5):\n",
    "    print(l[i])"
   ]
  },
  {
   "cell_type": "code",
   "execution_count": null,
   "id": "dc53cf4d-ea33-405b-b362-fde258e29b33",
   "metadata": {},
   "outputs": [],
   "source": []
  },
  {
   "cell_type": "code",
   "execution_count": null,
   "id": "32aa18bd-5682-4dbd-a683-345fc92462a2",
   "metadata": {},
   "outputs": [],
   "source": []
  },
  {
   "cell_type": "code",
   "execution_count": null,
   "id": "1803a80f-7a2f-49c1-9ee6-e4fb46634f9f",
   "metadata": {},
   "outputs": [],
   "source": []
  }
 ],
 "metadata": {
  "kernelspec": {
   "display_name": "Python 3 (ipykernel)",
   "language": "python",
   "name": "python3"
  },
  "language_info": {
   "codemirror_mode": {
    "name": "ipython",
    "version": 3
   },
   "file_extension": ".py",
   "mimetype": "text/x-python",
   "name": "python",
   "nbconvert_exporter": "python",
   "pygments_lexer": "ipython3",
   "version": "3.8.8"
  }
 },
 "nbformat": 4,
 "nbformat_minor": 5
}
