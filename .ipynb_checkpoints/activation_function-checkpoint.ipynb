{
 "cells": [
  {
   "cell_type": "markdown",
   "id": "5da05e60-e09c-47d3-83ee-88cc3ae39ac8",
   "metadata": {},
   "source": [
    "# '''Activation Function'''"
   ]
  },
  {
   "cell_type": "markdown",
   "id": "fd7855db-9572-4fe7-b975-b6636dd91b4c",
   "metadata": {},
   "source": [
    "# Binary Step Function"
   ]
  },
  {
   "cell_type": "code",
   "execution_count": 2,
   "id": "c6f7ef23-4ba1-4e80-a3b6-5e8807561a25",
   "metadata": {},
   "outputs": [],
   "source": [
    " def binary_step(x):\n",
    "    if x<0:\n",
    "        return 0\n",
    "    else:\n",
    "        return 1"
   ]
  },
  {
   "cell_type": "code",
   "execution_count": 3,
   "id": "a13a47ee-a398-4093-a963-fde44bcaab9c",
   "metadata": {},
   "outputs": [
    {
     "data": {
      "text/plain": [
       "1"
      ]
     },
     "execution_count": 3,
     "metadata": {},
     "output_type": "execute_result"
    }
   ],
   "source": [
    "binary_step(5)\n"
   ]
  },
  {
   "cell_type": "code",
   "execution_count": 4,
   "id": "54fda33d-0912-4a55-9738-608f2cd9b486",
   "metadata": {},
   "outputs": [
    {
     "data": {
      "text/plain": [
       "0"
      ]
     },
     "execution_count": 4,
     "metadata": {},
     "output_type": "execute_result"
    }
   ],
   "source": [
    "binary_step(-1)"
   ]
  },
  {
   "cell_type": "markdown",
   "id": "f18e8e32-4076-4471-b83d-decb3c68f28f",
   "metadata": {},
   "source": [
    "# Linear Function"
   ]
  },
  {
   "cell_type": "code",
   "execution_count": 5,
   "id": "2d505cbc-7acf-4e09-ae32-a1dde1f4a2c8",
   "metadata": {},
   "outputs": [],
   "source": [
    "def linear_function(x):\n",
    "    return 4*x"
   ]
  },
  {
   "cell_type": "code",
   "execution_count": 6,
   "id": "d452a1eb-e25e-43cd-a6da-4340e23a2cc5",
   "metadata": {},
   "outputs": [
    {
     "data": {
      "text/plain": [
       "16"
      ]
     },
     "execution_count": 6,
     "metadata": {},
     "output_type": "execute_result"
    }
   ],
   "source": [
    "linear_function(4)"
   ]
  },
  {
   "cell_type": "code",
   "execution_count": 7,
   "id": "09645659-3b36-4528-8fef-7c1aef8c99c4",
   "metadata": {},
   "outputs": [
    {
     "data": {
      "text/plain": [
       "-8"
      ]
     },
     "execution_count": 7,
     "metadata": {},
     "output_type": "execute_result"
    }
   ],
   "source": [
    "linear_function(-2)"
   ]
  },
  {
   "cell_type": "markdown",
   "id": "fc3b22bf-7dda-440c-84e0-9ead9280b74d",
   "metadata": {},
   "source": [
    "# Sigmoid Function"
   ]
  },
  {
   "cell_type": "code",
   "execution_count": 12,
   "id": "1bcb80b9-9d70-4974-8618-d58199ff68a9",
   "metadata": {},
   "outputs": [],
   "source": [
    "import numpy as np\n",
    "def sigmoid_function(x):\n",
    "    z = (1/(1 + np.exp(-x)))\n",
    "    return z\n"
   ]
  },
  {
   "cell_type": "code",
   "execution_count": 13,
   "id": "427351c2-e3d3-4a5e-95e5-c0570230d339",
   "metadata": {},
   "outputs": [
    {
     "data": {
      "text/plain": [
       "0.9990889488055994"
      ]
     },
     "execution_count": 13,
     "metadata": {},
     "output_type": "execute_result"
    }
   ],
   "source": [
    "sigmoid_function(7)\n"
   ]
  },
  {
   "cell_type": "code",
   "execution_count": 14,
   "id": "00b69371-6988-4ccc-bb68-abf59a737406",
   "metadata": {},
   "outputs": [
    {
     "data": {
      "text/plain": [
       "2.7894680920908113e-10"
      ]
     },
     "execution_count": 14,
     "metadata": {},
     "output_type": "execute_result"
    }
   ],
   "source": [
    "sigmoid_function(-22)"
   ]
  },
  {
   "cell_type": "markdown",
   "id": "1e925ffd-2681-4851-86a9-cd9eaa1d83c7",
   "metadata": {},
   "source": [
    "# Tanh function"
   ]
  },
  {
   "cell_type": "code",
   "execution_count": 15,
   "id": "1d8e7d4e-547e-4872-99e3-29acb13cfe17",
   "metadata": {},
   "outputs": [],
   "source": [
    "def tanh_function(x):\n",
    "    z = (2/(1 + np.exp(-2*x))) -1\n",
    "    return z"
   ]
  },
  {
   "cell_type": "code",
   "execution_count": 16,
   "id": "1bfe8842-84ba-43fa-b032-de64aa3fa6f3",
   "metadata": {},
   "outputs": [
    {
     "data": {
      "text/plain": [
       "0.4621171572600098"
      ]
     },
     "execution_count": 16,
     "metadata": {},
     "output_type": "execute_result"
    }
   ],
   "source": [
    "tanh_function(0.5)\n"
   ]
  },
  {
   "cell_type": "code",
   "execution_count": 17,
   "id": "993ca9c0-fd7c-4ef9-a367-7697a04edd8c",
   "metadata": {},
   "outputs": [
    {
     "data": {
      "text/plain": [
       "-0.7615941559557649"
      ]
     },
     "execution_count": 17,
     "metadata": {},
     "output_type": "execute_result"
    }
   ],
   "source": [
    " tanh_function(-1)"
   ]
  },
  {
   "cell_type": "markdown",
   "id": "1ede42f5-5b38-4b4d-ae5b-70b7d3c7dffb",
   "metadata": {},
   "source": [
    "# Relu function"
   ]
  },
  {
   "cell_type": "code",
   "execution_count": 19,
   "id": "75003f35-247f-4c1a-8601-c57bae2db8aa",
   "metadata": {},
   "outputs": [],
   "source": [
    "def relu_function(x):\n",
    "    if x<0:\n",
    "        return 0\n",
    "    else:\n",
    "        return x"
   ]
  },
  {
   "cell_type": "code",
   "execution_count": 20,
   "id": "debd97c9-e578-4c37-9e0f-8efedb680347",
   "metadata": {},
   "outputs": [
    {
     "data": {
      "text/plain": [
       "7"
      ]
     },
     "execution_count": 20,
     "metadata": {},
     "output_type": "execute_result"
    }
   ],
   "source": [
    "relu_function(7)\n"
   ]
  },
  {
   "cell_type": "code",
   "execution_count": 21,
   "id": "86934be5-32d8-4224-8b78-a58c0267afdc",
   "metadata": {},
   "outputs": [
    {
     "data": {
      "text/plain": [
       "0"
      ]
     },
     "execution_count": 21,
     "metadata": {},
     "output_type": "execute_result"
    }
   ],
   "source": [
    "relu_function(-7)"
   ]
  },
  {
   "cell_type": "markdown",
   "id": "8bef71c3-c1d3-4687-9d12-73fe6c38aaa9",
   "metadata": {},
   "source": [
    "# Leaky Relu "
   ]
  },
  {
   "cell_type": "code",
   "execution_count": 22,
   "id": "395a884a-a201-4722-ad8d-0e119d3d36f0",
   "metadata": {},
   "outputs": [],
   "source": [
    "def leaky_relu_function(x):\n",
    "    if x<0:\n",
    "        return 0.01*x\n",
    "    else:\n",
    "        return x"
   ]
  },
  {
   "cell_type": "code",
   "execution_count": 23,
   "id": "9e5537ab-aa9c-4294-bc21-14cbffdd89a9",
   "metadata": {},
   "outputs": [
    {
     "data": {
      "text/plain": [
       "7"
      ]
     },
     "execution_count": 23,
     "metadata": {},
     "output_type": "execute_result"
    }
   ],
   "source": [
    "leaky_relu_function(7)\n"
   ]
  },
  {
   "cell_type": "code",
   "execution_count": 24,
   "id": "d554cf85-c485-44b2-9e0a-69d0dd2e4289",
   "metadata": {},
   "outputs": [
    {
     "data": {
      "text/plain": [
       "-0.07"
      ]
     },
     "execution_count": 24,
     "metadata": {},
     "output_type": "execute_result"
    }
   ],
   "source": [
    " leaky_relu_function(-7)"
   ]
  },
  {
   "cell_type": "markdown",
   "id": "8e4ad3b8-033a-47e6-837a-bb3af7bfcac7",
   "metadata": {},
   "source": [
    "# Parameterised Relu"
   ]
  },
  {
   "cell_type": "code",
   "execution_count": 25,
   "id": "f02d98e7-093f-4cc5-9d8a-b8cd575135e4",
   "metadata": {},
   "outputs": [],
   "source": [
    "def parameterised_relu_function(a,x):\n",
    "    if x<0:\n",
    "        return a*x\n",
    "    else:\n",
    "        return x"
   ]
  },
  {
   "cell_type": "code",
   "execution_count": 26,
   "id": "06c4a5d3-3a55-4e3e-85a0-d892c3cc14db",
   "metadata": {},
   "outputs": [
    {
     "data": {
      "text/plain": [
       "7"
      ]
     },
     "execution_count": 26,
     "metadata": {},
     "output_type": "execute_result"
    }
   ],
   "source": [
    "parameterised_relu_function(0.01,7)"
   ]
  },
  {
   "cell_type": "code",
   "execution_count": 27,
   "id": "4a6921f8-ea47-4c83-83a8-a1b41d40c13b",
   "metadata": {},
   "outputs": [
    {
     "data": {
      "text/plain": [
       "-0.07"
      ]
     },
     "execution_count": 27,
     "metadata": {},
     "output_type": "execute_result"
    }
   ],
   "source": [
    "parameterised_relu_function(0.01,-7)"
   ]
  },
  {
   "cell_type": "markdown",
   "id": "bed8d633-abda-4e71-8c81-4501e36afd55",
   "metadata": {},
   "source": [
    "# ELU"
   ]
  },
  {
   "cell_type": "code",
   "execution_count": 28,
   "id": "2bb8aedc-b252-4efc-b3de-a0e776c17ab0",
   "metadata": {},
   "outputs": [],
   "source": [
    "def elu_function(x, a):\n",
    "    if x<0:\n",
    "        return a*(np.exp(x)-1)\n",
    "    else:\n",
    "        return x"
   ]
  },
  {
   "cell_type": "code",
   "execution_count": 29,
   "id": "cb61bedc-45c2-41b8-b4c8-65a750c5fb13",
   "metadata": {},
   "outputs": [
    {
     "data": {
      "text/plain": [
       "5"
      ]
     },
     "execution_count": 29,
     "metadata": {},
     "output_type": "execute_result"
    }
   ],
   "source": [
    "elu_function(5, 0.1)\n"
   ]
  },
  {
   "cell_type": "code",
   "execution_count": 30,
   "id": "e4815151-aaf6-4895-a076-ddb92b4ce1f4",
   "metadata": {},
   "outputs": [
    {
     "data": {
      "text/plain": [
       "-0.09932620530009145"
      ]
     },
     "execution_count": 30,
     "metadata": {},
     "output_type": "execute_result"
    }
   ],
   "source": [
    "elu_function(-5, 0.1)"
   ]
  },
  {
   "cell_type": "markdown",
   "id": "6789c113-35a3-4271-9f22-07804a285bf6",
   "metadata": {},
   "source": [
    "# Softmax function"
   ]
  },
  {
   "cell_type": "code",
   "execution_count": 36,
   "id": "56f3f8f4-c5d8-4a5f-96ea-859f3f5aa299",
   "metadata": {},
   "outputs": [],
   "source": [
    "def softmax_function(x):\n",
    "    z = np.exp(x)\n",
    "    z_ = z/z.sum()\n",
    "    return z_"
   ]
  },
  {
   "cell_type": "code",
   "execution_count": 37,
   "id": "26b0b694-821e-4ab5-936c-ecf969de8c48",
   "metadata": {},
   "outputs": [
    {
     "data": {
      "text/plain": [
       "array([0.08021815, 0.11967141, 0.80011044])"
      ]
     },
     "execution_count": 37,
     "metadata": {},
     "output_type": "execute_result"
    }
   ],
   "source": [
    "softmax_function([0.8, 1.2, 3.1])\n"
   ]
  },
  {
   "cell_type": "markdown",
   "id": "66d646cf-4410-4b10-956c-84738dd55112",
   "metadata": {},
   "source": [
    "# Swish Function"
   ]
  },
  {
   "cell_type": "code",
   "execution_count": 31,
   "id": "501fb0cc-846c-4aaf-9056-6f48a904ff27",
   "metadata": {},
   "outputs": [],
   "source": [
    "def swish_function(x):\n",
    "    return x/(1-np.exp(-x))"
   ]
  },
  {
   "cell_type": "code",
   "execution_count": 32,
   "id": "a9cf7b4a-10ed-4e9d-b2f8-c2414f6e1662",
   "metadata": {},
   "outputs": [
    {
     "data": {
      "text/plain": [
       "5.349885844610276e-28"
      ]
     },
     "execution_count": 32,
     "metadata": {},
     "output_type": "execute_result"
    }
   ],
   "source": [
    "swish_function(-67)"
   ]
  },
  {
   "cell_type": "code",
   "execution_count": 35,
   "id": "5a9e9dab-ea8a-40c2-9eaa-8f35648b0691",
   "metadata": {},
   "outputs": [
    {
     "name": "stdout",
     "output_type": "stream",
     "text": [
      "1.4527729767328754\n",
      "1.5166059753645071\n",
      "1.3905037045441242\n",
      "1.4527729767328754\n"
     ]
    }
   ],
   "source": [
    "print(swish_function(0.8))\n",
    "print(swish_function(0.9))\n",
    "print(swish_function(0.7))\n",
    "print(swish_function(0.8))\n",
    "\n",
    "\n"
   ]
  },
  {
   "cell_type": "code",
   "execution_count": 38,
   "id": "e6c33568-1e3b-43e0-92a1-41cc9cba1112",
   "metadata": {},
   "outputs": [
    {
     "data": {
      "text/plain": [
       "4.074629441455096"
      ]
     },
     "execution_count": 38,
     "metadata": {},
     "output_type": "execute_result"
    }
   ],
   "source": [
    "swish_function(4)\n"
   ]
  },
  {
   "cell_type": "code",
   "execution_count": null,
   "id": "5dc97f3c-d0f9-408c-b632-daf89cefd961",
   "metadata": {},
   "outputs": [],
   "source": []
  }
 ],
 "metadata": {
  "kernelspec": {
   "display_name": "Python 3 (ipykernel)",
   "language": "python",
   "name": "python3"
  },
  "language_info": {
   "codemirror_mode": {
    "name": "ipython",
    "version": 3
   },
   "file_extension": ".py",
   "mimetype": "text/x-python",
   "name": "python",
   "nbconvert_exporter": "python",
   "pygments_lexer": "ipython3",
   "version": "3.8.8"
  }
 },
 "nbformat": 4,
 "nbformat_minor": 5
}
