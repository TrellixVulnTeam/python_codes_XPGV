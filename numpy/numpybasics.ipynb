{
 "cells": [
  {
   "cell_type": "code",
   "execution_count": 2,
   "id": "6ea3c2d8-46da-4546-a2b3-85bf4f06e942",
   "metadata": {},
   "outputs": [],
   "source": [
    "import numpy as np"
   ]
  },
  {
   "cell_type": "code",
   "execution_count": 3,
   "id": "50edbcc8-d011-4974-83af-25a5f3fedb64",
   "metadata": {},
   "outputs": [
    {
     "name": "stdout",
     "output_type": "stream",
     "text": [
      "[10, 20, 30, 40]\n"
     ]
    }
   ],
   "source": [
    "a = [10,20,30,40]\n",
    "print(a)"
   ]
  },
  {
   "cell_type": "code",
   "execution_count": 4,
   "id": "76e57f86-e87c-4c63-b8b1-5d2417763508",
   "metadata": {},
   "outputs": [
    {
     "name": "stdout",
     "output_type": "stream",
     "text": [
      "[10 20 30 40]\n"
     ]
    }
   ],
   "source": [
    "# np.array() is used to convert python list to a numpy array\n",
    "b = np.array(a)\n",
    "print(b)\n",
    "\n",
    "\n",
    "\n"
   ]
  },
  {
   "cell_type": "code",
   "execution_count": 5,
   "id": "94a21629-6ef1-4bd0-8b6b-38d1a0fc288a",
   "metadata": {},
   "outputs": [
    {
     "name": "stdout",
     "output_type": "stream",
     "text": [
      "[10 20 30 40]\n"
     ]
    }
   ],
   "source": [
    "a = np.array([10,20,30,40])\n",
    "print(a)"
   ]
  },
  {
   "cell_type": "code",
   "execution_count": 15,
   "id": "f237ea4d-fc97-4c19-aef0-be73cc129419",
   "metadata": {},
   "outputs": [
    {
     "name": "stdout",
     "output_type": "stream",
     "text": [
      "(3,)\n",
      "<class 'numpy.ndarray'>\n"
     ]
    }
   ],
   "source": [
    "# We can perform mathematical operations like additions, subtraction,division and multiplication on an array.\n",
    "a=a+10\n",
    "print(a.shape) # Shape of Array\n",
    "print(type(a)) # internal data type\n"
   ]
  },
  {
   "cell_type": "code",
   "execution_count": 16,
   "id": "bc276d2d-3cd9-4bca-9d82-d8e6dcea778f",
   "metadata": {},
   "outputs": [
    {
     "name": "stdout",
     "output_type": "stream",
     "text": [
      "<class 'numpy.ndarray'>\n"
     ]
    }
   ],
   "source": [
    "b = np.array([10.5,20.2,30.6])\n",
    "print(type(b))\n"
   ]
  },
  {
   "cell_type": "code",
   "execution_count": 17,
   "id": "edd37bf5-7cdc-4932-b6cd-799289dfe856",
   "metadata": {},
   "outputs": [
    {
     "name": "stdout",
     "output_type": "stream",
     "text": [
      "[[1 2 3 4 5]]\n"
     ]
    }
   ],
   "source": [
    "a = np.array([1,2,3,4,5], ndmin = 2)\n",
    "print(a)\n"
   ]
  },
  {
   "cell_type": "code",
   "execution_count": 18,
   "id": "9a569684-8a23-4f8a-884e-ec7396fc9a7b",
   "metadata": {},
   "outputs": [
    {
     "name": "stdout",
     "output_type": "stream",
     "text": [
      "[1.+0.j 2.+0.j 3.+0.j]\n"
     ]
    }
   ],
   "source": [
    "a = np.array([1,2,3], dtype = complex)\n",
    "print(a)"
   ]
  },
  {
   "cell_type": "code",
   "execution_count": 19,
   "id": "5f19d1db-5128-4977-945c-5480fa231748",
   "metadata": {},
   "outputs": [
    {
     "name": "stdout",
     "output_type": "stream",
     "text": [
      "(2, 3)\n"
     ]
    }
   ],
   "source": [
    "# 2 dim array\n",
    "c = np.array([(1,2,3),\n",
    " (4,5,6)])\n",
    "print(c.shape)\n"
   ]
  },
  {
   "cell_type": "code",
   "execution_count": 20,
   "id": "985923cd-60d6-4e1a-be34-b4efd9b1dd5d",
   "metadata": {},
   "outputs": [
    {
     "name": "stdout",
     "output_type": "stream",
     "text": [
      "(2, 2, 3)\n",
      "(2, 3)\n",
      "[[1 2]\n",
      " [3 4]\n",
      " [5 6]]\n"
     ]
    }
   ],
   "source": [
    "# 3 dim array\n",
    "d = np.array([[[1,2,3],[4,5,6]],[[7,8,9],[10,11,12]]])\n",
    "print(d.shape)\n",
    "a = np.array([[1,2,3],[4,5,6]])\n",
    "print(a.shape)\n",
    "a = np.array([[1,2,3],[4,5,6]])\n",
    "a.shape = (3,2)\n",
    "print(a)\n"
   ]
  },
  {
   "cell_type": "code",
   "execution_count": 21,
   "id": "aa325ce6-3ff9-4e40-90b8-e87e8e367ab4",
   "metadata": {},
   "outputs": [
    {
     "name": "stdout",
     "output_type": "stream",
     "text": [
      "[[1 2]\n",
      " [3 4]\n",
      " [5 6]]\n"
     ]
    }
   ],
   "source": [
    "# NumPy also provides a reshape function to resize an array.\n",
    "a = np.array([[1,2,3],[4,5,6]])\n",
    "b = a.reshape(3,2)\n",
    "print(b)"
   ]
  },
  {
   "cell_type": "code",
   "execution_count": 22,
   "id": "c47d935a-7392-45dc-a7ac-26f8629b8f7f",
   "metadata": {},
   "outputs": [
    {
     "name": "stdout",
     "output_type": "stream",
     "text": [
      "[1 2 3 4 5 6 7 8]\n",
      "1\n",
      "[[1 2 3]\n",
      " [4 5 6]]\n"
     ]
    },
    {
     "data": {
      "text/plain": [
       "array([[1, 2],\n",
       "       [3, 4],\n",
       "       [5, 6]])"
      ]
     },
     "execution_count": 22,
     "metadata": {},
     "output_type": "execute_result"
    }
   ],
   "source": [
    "# ndarray.ndim attribute returns the number of array dimensions.\n",
    "a = np.array([1,2,3,4,5,6,7,8])\n",
    "print(a)\n",
    "print(a.ndim) # 1 dimensional array\n",
    "a = np.array([(1,2,3),(4,5,6)])\n",
    "print(a)\n",
    "a.reshape(3,2)\n"
   ]
  },
  {
   "cell_type": "code",
   "execution_count": 27,
   "id": "849ecd73-e051-47c6-9f48-3fff44e338a3",
   "metadata": {},
   "outputs": [
    {
     "data": {
      "text/plain": [
       "array([[0, 0],\n",
       "       [0, 0]], dtype=int16)"
      ]
     },
     "execution_count": 27,
     "metadata": {},
     "output_type": "execute_result"
    }
   ],
   "source": [
    "# numpy.zeros Returns a new array of specified size, filled with zeros.\n",
    "np.zeros((2,2))\n",
    "np.zeros((2,2), dtype=np.int16)\n"
   ]
  },
  {
   "cell_type": "code",
   "execution_count": 28,
   "id": "203821ea-7ff0-45f6-835d-6be71159fa04",
   "metadata": {},
   "outputs": [
    {
     "data": {
      "text/plain": [
       "array([[1, 1],\n",
       "       [1, 1]])"
      ]
     },
     "execution_count": 28,
     "metadata": {},
     "output_type": "execute_result"
    }
   ],
   "source": [
    "# numpy.ones Returns a new array of specified size, filled with ones.\n",
    "np.ones(5)\n",
    "np.ones([2,2], dtype = int)\n",
    "\n"
   ]
  },
  {
   "cell_type": "code",
   "execution_count": 29,
   "id": "c2e6d391-23c5-47da-a218-b720a9ebc1e5",
   "metadata": {},
   "outputs": [
    {
     "name": "stdout",
     "output_type": "stream",
     "text": [
      "[1 2 3]\n"
     ]
    }
   ],
   "source": [
    "# numpy.asarray is used to convert Python sequence into ndarray\n",
    "a = [1,2,3]\n",
    "b = np.asarray(a)# convert list to ndarray\n",
    "print(b)\n"
   ]
  },
  {
   "cell_type": "code",
   "execution_count": 30,
   "id": "b5ed56d1-8982-4896-8202-06ca4f1dd360",
   "metadata": {},
   "outputs": [
    {
     "name": "stdout",
     "output_type": "stream",
     "text": [
      "[1. 2. 3.]\n"
     ]
    }
   ],
   "source": [
    "b = np.asarray(a, dtype = float) # dtype is set\n",
    "print(b)\n"
   ]
  },
  {
   "cell_type": "code",
   "execution_count": 31,
   "id": "c4b1fe76-1ad9-456f-a93d-113ccf032424",
   "metadata": {},
   "outputs": [
    {
     "name": "stdout",
     "output_type": "stream",
     "text": [
      "[1 2 3]\n"
     ]
    }
   ],
   "source": [
    "a = (1,2,3)\n",
    "b = np.asarray(a)# ndarray from tuple\n",
    "print(b)\n"
   ]
  },
  {
   "cell_type": "code",
   "execution_count": 33,
   "id": "06ce7756-c149-46c2-9215-720b2b6f833a",
   "metadata": {},
   "outputs": [
    {
     "name": "stdout",
     "output_type": "stream",
     "text": [
      "[(1, 2, 3) (4, 5)]\n"
     ]
    },
    {
     "name": "stderr",
     "output_type": "stream",
     "text": [
      "/tmp/ipykernel_12499/1751748636.py:2: VisibleDeprecationWarning: Creating an ndarray from ragged nested sequences (which is a list-or-tuple of lists-or-tuples-or ndarrays with different lengths or shapes) is deprecated. If you meant to do this, you must specify 'dtype=object' when creating the ndarray.\n",
      "  b = np.asarray(a) # ndarray from list of tuples\n"
     ]
    }
   ],
   "source": [
    "a = [(1,2,3),(4,5)]\n",
    "b = np.asarray(a) # ndarray from list of tuples\n",
    "print(b)\n"
   ]
  },
  {
   "cell_type": "code",
   "execution_count": 35,
   "id": "0c8cf69c-ae48-428e-9f20-275833630c44",
   "metadata": {},
   "outputs": [
    {
     "data": {
      "text/plain": [
       "array([10, 12, 14, 16, 18])"
      ]
     },
     "execution_count": 35,
     "metadata": {},
     "output_type": "execute_result"
    }
   ],
   "source": [
    "# numpy.arange is used to print the sequence of values numpy.arange(start, stop,step)\n",
    "np.arange(5)\n",
    "np.arange(5, dtype = float)\n",
    "np.arange(1, 11)\n",
    "np.arange(10,20,2)"
   ]
  },
  {
   "cell_type": "code",
   "execution_count": 36,
   "id": "0dfa93fa-9c57-4611-8782-a7f5b02d26ad",
   "metadata": {},
   "outputs": [
    {
     "data": {
      "text/plain": [
       "(array([1.  , 1.25, 1.5 , 1.75, 2.  ]), 0.25)"
      ]
     },
     "execution_count": 36,
     "metadata": {},
     "output_type": "execute_result"
    }
   ],
   "source": [
    "# numpy.linspace is similar to arange(),instead of step size, works with length\n",
    "# Syntax: numpy.linspace(start, stop, num, endpoint, retstep, dtype)\n",
    "np.linspace(10,20,5)\n",
    "np.linspace(10,20, 5, endpoint = False)\n",
    "np.linspace(1.0, 5.0, 10)\n",
    "np.linspace(1.0, 5.0, 5, endpoint=False)\n",
    "np.linspace(1,2,5, retstep = True)"
   ]
  },
  {
   "cell_type": "code",
   "execution_count": 38,
   "id": "3f757b6c-4502-4a97-be03-76e29ea06d7d",
   "metadata": {},
   "outputs": [
    {
     "data": {
      "text/plain": [
       "array([3, 4, 5])"
      ]
     },
     "execution_count": 38,
     "metadata": {},
     "output_type": "execute_result"
    }
   ],
   "source": [
    "# Indexing & Slicing:\n",
    "# ===================\n",
    "a = np.arange(10)\n",
    "slice(2,7,2)\n",
    "a[2:7:2]\n",
    "a[5] # slice single item\n",
    "a[2:] # slice items starting from index\n",
    "a[2:5]# slice items between indexes\n",
    "a = np.array([[1,2,3],[3,4,5],[4,5,6]])\n",
    "a[1:] # slice items starting from index\n",
    "a[...,1] # this returns array of items in the second column\n",
    "a[1,...] # Now we will slice all items from the second row"
   ]
  },
  {
   "cell_type": "code",
   "execution_count": 41,
   "id": "033480a2-e595-4629-aca1-76aa63e0c25a",
   "metadata": {},
   "outputs": [
    {
     "name": "stdout",
     "output_type": "stream",
     "text": [
      "[11 22 33 44]\n",
      "[[11 22 33 44]\n",
      " [15 26 37 48]\n",
      " [19 30 41 52]]\n"
     ]
    },
    {
     "data": {
      "text/plain": [
       "array([[11, 22, 33, 44],\n",
       "       [15, 26, 37, 48],\n",
       "       [19, 30, 41, 52]])"
      ]
     },
     "execution_count": 41,
     "metadata": {},
     "output_type": "execute_result"
    }
   ],
   "source": [
    "a[...,1:] # Now we will slice all items from column 1 onwards\n",
    "x = np.array([[1,2,3],[4,5,6],[7,8,9],[10,11,12]])\n",
    "x[1:4,1:3] # slicing\n",
    "y = x[1:4,[1,2]] # using advanced index for column\n",
    "a = np.array([1,2,3,4])\n",
    "b = np.array([10,20,30,40])\n",
    "print(a+b)\n",
    "a = np.array([[1,2,3,4],[5,6,7,8],[9,10,11,12]])\n",
    "print(a+b) # b is broadcast to become compatible with a\n",
    "a.T # Transpose\n",
    "# Statistical Functions\n",
    "np.min(a)\n",
    "np.max(a)\n",
    "np.mean(a)\n",
    "np.median(a)\n",
    "np.std(a)\n",
    "# Arithmetic operations\n",
    "np.add(a,b)"
   ]
  },
  {
   "cell_type": "code",
   "execution_count": 44,
   "id": "4cce881d-85af-42aa-994a-4619e0535244",
   "metadata": {},
   "outputs": [
    {
     "name": "stdout",
     "output_type": "stream",
     "text": [
      "[[0.19569717 0.06762281]\n",
      " [0.63308999 0.35934923]]\n"
     ]
    }
   ],
   "source": [
    "np.subtract(a,b)\n",
    "np.multiply(a,b)\n",
    "np.divide(a,b)\n",
    "np.power(a,2)\n",
    "# NumPy package contains numpy.linalg module that provides all the functionality required for linear algebra.\n",
    "a = np.array([[1,2],[3,4]])\n",
    "b = np.array([[11,12],[13,14]])\n",
    "np.dot(a,b) # [[1*11+2*13, 1*12+2*14],[3*11+4*13, 3*12+4*14]]\n",
    "np.matmul(a,b)\n",
    "np.vdot(a,b) # 1*11 + 2*12 + 3*13 + 4*14\n",
    "np.inner(a,b) # 1*11+2*12, 1*13+2*14, 3*11+4*12, 3*13+4*14\n",
    "np.linalg.det(a) # Determinant ad-bc\n",
    "x = np.array([[1,2,3],[4,5,6],[7,8,9]])\n",
    "np.linalg.det(x) # 1*(5*9 - 6*8) + 2*(4*9 - 6*7) + 3*(4*8 - 5*7)\n",
    "# Generate random numbers:\n",
    "# ========================\n",
    "# Random numbers between [0,1) of shape 2,2\n",
    "print(np.random.rand(2,2))\n",
    "# Normal distribution with mean=0 and variance=1 of shape 2,2"
   ]
  },
  {
   "cell_type": "code",
   "execution_count": 45,
   "id": "384b1a71-1ca3-4eba-8309-6c2fe3bc0caa",
   "metadata": {},
   "outputs": [
    {
     "name": "stdout",
     "output_type": "stream",
     "text": [
      "[[ 0.62562407 -1.81721559]\n",
      " [ 0.5015116   0.80207953]]\n",
      "[[3 7]\n",
      " [7 8]]\n",
      "0.22577110471242623\n",
      "[[0.66140588 0.28346968]\n",
      " [0.22517534 0.30684792]]\n",
      "['u' 'i' 'a' 'a' 'i' 'a' 'a' 'e' 'u' 'o']\n",
      "['o' 'a' 'o' 'a' 'a' 'o' 'a' 'o' 'o' 'i']\n",
      "[[0.54340494 0.27836939]\n",
      " [0.42451759 0.84477613]]\n"
     ]
    }
   ],
   "source": [
    "print(np.random.randn(2,2))\n",
    "# Random integers between [0, 10) of shape 2,2\n",
    "print(np.random.randint(0, 10, size=[2,2]))\n",
    "# One random number between [0,1)\n",
    "print(np.random.random())\n",
    "# Random numbers between [0,1) of shape 2,2\n",
    "print(np.random.random(size=[2,2]))\n",
    "# Pick 10 items from a given list, with equal probability\n",
    "print(np.random.choice(['a', 'e', 'i', 'o', 'u'], size=10))\n",
    "# Pick 10 items from a given list with a predefined probability 'p'\n",
    "print(np.random.choice(['a', 'e', 'i', 'o', 'u'], size=10, p=[0.3, .1, 0.1, 0.4,\n",
    "0.1]))\n",
    "# Create the random state\n",
    "rn = np.random.RandomState(100)\n",
    "# Create random numbers between [0,1) of shape 2,2\n",
    "print(rn.rand(2,2))"
   ]
  },
  {
   "cell_type": "code",
   "execution_count": 46,
   "id": "9bdef82f-7925-4feb-af84-31380687a450",
   "metadata": {},
   "outputs": [
    {
     "name": "stdout",
     "output_type": "stream",
     "text": [
      "[[0.54340494 0.27836939]\n",
      " [0.42451759 0.84477613]]\n",
      "[8 8 3 7 7 0 4 2 5 2]\n",
      "Unique items :  [0 2 3 4 5 7 8]\n",
      "Counts :  [1 2 1 1 1 2 2]\n"
     ]
    }
   ],
   "source": [
    "# Set the random seed\n",
    "np.random.seed(100)\n",
    "# Create random numbers between [0,1) of shape 2,2\n",
    "print(np.random.rand(2,2))\n",
    "# Create random integers of size 10 between [0,10)\n",
    "np.random.seed(100)\n",
    "arr_rand = np.random.randint(0, 10, size=10)\n",
    "print(arr_rand)\n",
    "# Get the unique items and their counts\n",
    "uniqs, counts = np.unique(arr_rand, return_counts=True)\n",
    "print(\"Unique items : \", uniqs)\n",
    "print(\"Counts : \", counts)"
   ]
  },
  {
   "cell_type": "code",
   "execution_count": null,
   "id": "ff28e816-ab82-41b2-8e91-6df10dea79b3",
   "metadata": {},
   "outputs": [],
   "source": []
  },
  {
   "cell_type": "code",
   "execution_count": null,
   "id": "cd5e5f65-15cf-46f7-a0ee-eb64ab468dcd",
   "metadata": {},
   "outputs": [],
   "source": []
  }
 ],
 "metadata": {
  "kernelspec": {
   "display_name": "Python 3 (ipykernel)",
   "language": "python",
   "name": "python3"
  },
  "language_info": {
   "codemirror_mode": {
    "name": "ipython",
    "version": 3
   },
   "file_extension": ".py",
   "mimetype": "text/x-python",
   "name": "python",
   "nbconvert_exporter": "python",
   "pygments_lexer": "ipython3",
   "version": "3.8.8"
  }
 },
 "nbformat": 4,
 "nbformat_minor": 5
}
