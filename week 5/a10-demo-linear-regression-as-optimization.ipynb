{
 "cells": [
  {
   "cell_type": "markdown",
   "metadata": {
    "_uuid": "865c84802a77e3226b0c8fc66a9b84fe8627e94f"
   },
   "source": [
    "<center>\n",
    "<img src=\"https://habrastorage.org/files/fd4/502/43d/fd450243dd604b81b9713213a247aa20.jpg\">\n",
    "## Open Machine Learning Course\n",
    "<center>Author: [Yury Kashnitsky](https://www.linkedin.com/in/festline/), Data Scientist at Mail.ru Group <br>\n",
    "Translated by [Anna Larionova](https://www.linkedin.com/in/anna-larionova-74434689/), DS @ Picturer, Data4, BNTouch <br> All content is distributed under the [Creative Commons CC BY-NC-SA 4.0](https://creativecommons.org/licenses/by-nc-sa/4.0/) license.\n",
    "You may use this material for any purpose (you can edit, correct and use it as example) exept commercial use with mandatory citation of author."
   ]
  },
  {
   "cell_type": "markdown",
   "metadata": {
    "_uuid": "ece1ecb14b8b68e0b7662f53d3ebda2d46d81a4e"
   },
   "source": [
    "# <center> Assignment #10 (demo)\n",
    "## <center> Linear Regression as an optimization problem\n",
    "    \n",
    "(no solution shared, part of [this](https://ru.coursera.org/specializations/machine-learning-data-analysis) Coursera specialization)"
   ]
  },
  {
   "cell_type": "markdown",
   "metadata": {
    "_uuid": "5223e0731e9c7b8845d3594995b02e5c134a5e99"
   },
   "source": [
    "### Part 1. Basic data analysis with Pandas"
   ]
  },
  {
   "cell_type": "markdown",
   "metadata": {
    "_uuid": "1a2e4c9f19dbe91ffa5a819b56fccef748cba329"
   },
   "source": [
    "In this task we will use [SOCR](http://wiki.stat.ucla.edu/socr/index.php/SOCR_Data_Dinov_020108_HeightsWeights) data containing information about height and weight of 25 thousands teenagers."
   ]
  },
  {
   "cell_type": "markdown",
   "metadata": {
    "_uuid": "f8479ed399a177519bc8c209ea2b0a2c009f756c"
   },
   "source": [
    "**[1]. If you haven't installed yet Seaborn library you should execute *conda install seaborn* in the terminal. (Seaborn isn't part of Anaconda and it provides suitable high level functionality for data visualization).**"
   ]
  },
  {
   "cell_type": "code",
   "execution_count": 77,
   "metadata": {
    "_uuid": "a7c9f00ab087d0d1a0a4ad971976c2ed65fd8b1d",
    "execution": {
     "iopub.execute_input": "2021-11-26T04:45:29.874713Z",
     "iopub.status.busy": "2021-11-26T04:45:29.873986Z",
     "iopub.status.idle": "2021-11-26T04:45:29.880803Z",
     "shell.execute_reply": "2021-11-26T04:45:29.880195Z",
     "shell.execute_reply.started": "2021-11-26T04:45:29.874638Z"
    }
   },
   "outputs": [],
   "source": [
    "import numpy as np\n",
    "import pandas as pd\n",
    "import seaborn as sns\n",
    "import matplotlib.pyplot as plt\n",
    "%matplotlib inline"
   ]
  },
  {
   "cell_type": "markdown",
   "metadata": {
    "_uuid": "0a3556f4a8cce28c079d3afa1ea080a07b1b8a4a"
   },
   "source": [
    "Read the data about height and weight into Pandas DataFrame:"
   ]
  },
  {
   "cell_type": "code",
   "execution_count": 78,
   "metadata": {
    "_uuid": "c1297a1565043685f73470d781ddfbe975457bd5",
    "execution": {
     "iopub.execute_input": "2021-11-26T04:45:29.882248Z",
     "iopub.status.busy": "2021-11-26T04:45:29.881846Z",
     "iopub.status.idle": "2021-11-26T04:45:29.913282Z",
     "shell.execute_reply": "2021-11-26T04:45:29.912480Z",
     "shell.execute_reply.started": "2021-11-26T04:45:29.882183Z"
    }
   },
   "outputs": [],
   "source": [
    "data = pd.read_csv('../input/weights_heights.csv', index_col='Index')"
   ]
  },
  {
   "cell_type": "markdown",
   "metadata": {
    "_uuid": "0edd54fc2f4b2dca64c7b296753031c6db789fb7"
   },
   "source": [
    "First thing you should do after reading the data is to look at first records. It helps to find the data reading errors (for example, when we have 1 column instead of 10 and it has 9 dots with commas in column name). Also it allows to take a closer look at the data and features and their nature (numerical, categorical, etc.).\n",
    "\n",
    "Than we should plot histograms of feature distributions. Also it can help to understand features nature (power-series distribution or standard or something else). Histogram can help us find some values that aren't similar to each other - outliers.\n",
    "It is convenient to plot histograms using *plot* method of Pandas DataFrame with option *kind='hist'*.\n",
    "\n",
    "**Example.** Let's plot the histogram of teenager's height distribution. We use method *plot* for DataFrame *data* with options *y='Height'* (the feature which distribution we want to plot)."
   ]
  },
  {
   "cell_type": "code",
   "execution_count": 79,
   "metadata": {
    "_uuid": "f4d4912a210c92531e8502ee53205530f73698d6",
    "execution": {
     "iopub.execute_input": "2021-11-26T04:45:29.915051Z",
     "iopub.status.busy": "2021-11-26T04:45:29.914756Z",
     "iopub.status.idle": "2021-11-26T04:45:30.209130Z",
     "shell.execute_reply": "2021-11-26T04:45:30.208150Z",
     "shell.execute_reply.started": "2021-11-26T04:45:29.914981Z"
    }
   },
   "outputs": [],
   "source": [
    "data.plot(y='Height', kind='hist', \n",
    "           color='red',  title='Height (inch.) distribution');"
   ]
  },
  {
   "cell_type": "markdown",
   "metadata": {
    "_uuid": "b6e6b99f0b5a1a4f205bf4e17667a64b15e6bac6"
   },
   "source": [
    "Options:\n",
    "\n",
    "- *y='Height'* - the feature which distribution we want to plot\n",
    "- *kind='hist'* - means that plot type is histogram\n",
    "- *color='red'* - set color"
   ]
  },
  {
   "cell_type": "markdown",
   "metadata": {
    "_uuid": "d1cb50b3bb6fa71235721c6bff3d2b92e2b96508"
   },
   "source": [
    "**[2]. Look at the first 5 rows using *head* method of Pandas DataFrame. Plot the histogram of weight distribution using method *plot* Pandas DataFrame. Make the color of histogram to be green and add title.**"
   ]
  },
  {
   "cell_type": "code",
   "execution_count": 80,
   "metadata": {
    "_uuid": "ee39a64199176160365dda34109528c5e75f783b",
    "execution": {
     "iopub.execute_input": "2021-11-26T04:45:30.211195Z",
     "iopub.status.busy": "2021-11-26T04:45:30.210639Z",
     "iopub.status.idle": "2021-11-26T04:45:30.230643Z",
     "shell.execute_reply": "2021-11-26T04:45:30.229702Z",
     "shell.execute_reply.started": "2021-11-26T04:45:30.211135Z"
    }
   },
   "outputs": [],
   "source": [
    "data.head()"
   ]
  },
  {
   "cell_type": "code",
   "execution_count": 81,
   "metadata": {
    "_uuid": "d14d49a3539a51b43426bc665fd5c5da8e14fdf6",
    "execution": {
     "iopub.execute_input": "2021-11-26T04:45:30.232924Z",
     "iopub.status.busy": "2021-11-26T04:45:30.232294Z",
     "iopub.status.idle": "2021-11-26T04:45:30.523300Z",
     "shell.execute_reply": "2021-11-26T04:45:30.522292Z",
     "shell.execute_reply.started": "2021-11-26T04:45:30.232861Z"
    }
   },
   "outputs": [],
   "source": [
    "data.plot(y='Weight', kind='hist', \n",
    "           color='green',  title='Weight (ponds.) distribution');"
   ]
  },
  {
   "cell_type": "markdown",
   "metadata": {
    "_uuid": "656c5caaa09493a4b5ee5a891a0d55d3ae95f831"
   },
   "source": [
    "One of the most effective methods of basic data analysis is mapping pairwise dependencies of features. We make $m \\times m$ plots (*m* is number of features) where we have histograms of feature distributions in diagonal and scatter plots of two feature dependencies outside. We can do this using $scatter\\_matrix$ method of Pandas Data Frame or *pairplot* of Seaborn library. \n",
    "\n",
    "To illustrate this method we add third feature. Let's create *bodymass index* ([BMI](https://en.wikipedia.org/wiki/Body_mass_index)). To do this we use *apply* method of Pandas FataFrame and Python's lambda functions."
   ]
  },
  {
   "cell_type": "code",
   "execution_count": 82,
   "metadata": {
    "_uuid": "e69873123117e0201ef76d6c52a76883cab6813a",
    "execution": {
     "iopub.execute_input": "2021-11-26T04:45:30.526085Z",
     "iopub.status.busy": "2021-11-26T04:45:30.525340Z",
     "iopub.status.idle": "2021-11-26T04:45:30.531644Z",
     "shell.execute_reply": "2021-11-26T04:45:30.530736Z",
     "shell.execute_reply.started": "2021-11-26T04:45:30.526016Z"
    }
   },
   "outputs": [],
   "source": [
    "def make_bmi(height_inch, weight_pound):\n",
    "    METER_TO_INCH, KILO_TO_POUND = 39.37, 2.20462\n",
    "    return (weight_pound / KILO_TO_POUND) / \\\n",
    "           (height_inch / METER_TO_INCH) ** 2"
   ]
  },
  {
   "cell_type": "code",
   "execution_count": 83,
   "metadata": {
    "_uuid": "cc4e610348f055b1336074cf2886b045d01e2143",
    "execution": {
     "iopub.execute_input": "2021-11-26T04:45:30.533549Z",
     "iopub.status.busy": "2021-11-26T04:45:30.533031Z",
     "iopub.status.idle": "2021-11-26T04:45:31.143839Z",
     "shell.execute_reply": "2021-11-26T04:45:31.142727Z",
     "shell.execute_reply.started": "2021-11-26T04:45:30.533490Z"
    }
   },
   "outputs": [],
   "source": [
    "data['BMI'] = data.apply(lambda row: make_bmi(row['Height'], \n",
    "                                              row['Weight']), axis=1)"
   ]
  },
  {
   "cell_type": "markdown",
   "metadata": {
    "_uuid": "81ae5c248ae35350b91ced98d0f456df70fe368b"
   },
   "source": [
    "**[3]. Create the picture that contains pairwise dependencies of features 'Height', 'Weight' и 'BMI'. You should use *pairplot* method of Seaborn library.**"
   ]
  },
  {
   "cell_type": "code",
   "execution_count": 84,
   "metadata": {
    "_uuid": "6326781379d1550b7d648bea9d54f9f7b454d8da",
    "execution": {
     "iopub.execute_input": "2021-11-26T04:45:31.145707Z",
     "iopub.status.busy": "2021-11-26T04:45:31.145373Z",
     "iopub.status.idle": "2021-11-26T04:45:34.479762Z",
     "shell.execute_reply": "2021-11-26T04:45:34.479127Z",
     "shell.execute_reply.started": "2021-11-26T04:45:31.145653Z"
    }
   },
   "outputs": [],
   "source": [
    "sns.pairplot(data)\n"
   ]
  },
  {
   "cell_type": "markdown",
   "metadata": {
    "_uuid": "26f688f62af75c26b7e565e9716beabab086759d"
   },
   "source": [
    "During the basic analysis you often have to investigate dependencies of numerical from categorical features (for example, dependency between salary and employee sex). In this case we can use boxplots from Seaborn library. Box plot is a compact way to show real value statistics (mean and quartiles) by different values of categorical feature. It also helps to find outliers - observations that have very different values from others."
   ]
  },
  {
   "cell_type": "markdown",
   "metadata": {
    "_uuid": "f6b6ea38b534ad289e08467962ccbd6c08f1a883"
   },
   "source": [
    "**[4]. Create new feature *weight_category* in DataFrame *data* that will have 3 values: 1 if the weight is less than 120 pounds, 3 if the weight is greater or equal to 150 pounds, 2 in other cases. Create boxplot showing dependency between height and weight category. Use *boxplot* method of Seaborn library and *apply* method of Pandas DataFrame. Add titles \"Height\" to *y* axis and \"Weight category\" to *x* axis.**"
   ]
  },
  {
   "cell_type": "code",
   "execution_count": 85,
   "metadata": {
    "_uuid": "f5efdec624f7f95ad90f1cedc4badbda88a23499",
    "execution": {
     "iopub.execute_input": "2021-11-26T04:45:34.481306Z",
     "iopub.status.busy": "2021-11-26T04:45:34.480858Z",
     "iopub.status.idle": "2021-11-26T04:45:34.749599Z",
     "shell.execute_reply": "2021-11-26T04:45:34.748633Z",
     "shell.execute_reply.started": "2021-11-26T04:45:34.481261Z"
    }
   },
   "outputs": [],
   "source": [
    "def weight_category(weight):\n",
    "    \n",
    "    if weight < 120: return 1\n",
    "    elif weight >= 150: return 3\n",
    "    else: return 2\n",
    "\n",
    "data['weight_cat'] = data['Weight'].apply(weight_category)\n",
    "sns.boxplot(x = 'weight_cat', y = 'Height', data = data)"
   ]
  },
  {
   "cell_type": "markdown",
   "metadata": {
    "_uuid": "b71575326a1230b58e5f807a176cc270e4efce9a"
   },
   "source": [
    "**[5]. Create scatter plot of dependencies between height and weight using *plot* method for Pandas DataFrame with option *kind='scatter'*. Add title to the figure.**"
   ]
  },
  {
   "cell_type": "code",
   "execution_count": 86,
   "metadata": {
    "_uuid": "967ef2088646d00e5070b69f6d16708b4c33a05f",
    "execution": {
     "iopub.execute_input": "2021-11-26T04:45:34.751570Z",
     "iopub.status.busy": "2021-11-26T04:45:34.751039Z",
     "iopub.status.idle": "2021-11-26T04:45:35.302942Z",
     "shell.execute_reply": "2021-11-26T04:45:35.301991Z",
     "shell.execute_reply.started": "2021-11-26T04:45:34.751509Z"
    }
   },
   "outputs": [],
   "source": [
    "data.plot.scatter(x = 'Height', y = 'Weight', title = 'Height and Weight scatter plot')\n"
   ]
  },
  {
   "cell_type": "code",
   "execution_count": 87,
   "metadata": {
    "execution": {
     "iopub.execute_input": "2021-11-26T04:45:35.304935Z",
     "iopub.status.busy": "2021-11-26T04:45:35.304416Z",
     "iopub.status.idle": "2021-11-26T04:45:36.016818Z",
     "shell.execute_reply": "2021-11-26T04:45:36.015792Z",
     "shell.execute_reply.started": "2021-11-26T04:45:35.304875Z"
    }
   },
   "outputs": [],
   "source": [
    "sns.scatterplot(x='Height', y='Weight', data = data,).set_title('Height and Weight scatter plot')\n"
   ]
  },
  {
   "cell_type": "markdown",
   "metadata": {
    "_uuid": "dbb13536b16c6ac6c10e5757ec1fd7408343df9b"
   },
   "source": [
    "## Part 2. Squared Error Minimization"
   ]
  },
  {
   "cell_type": "markdown",
   "metadata": {
    "_uuid": "aa7b887add8ff79b9211feefea7b073afc511e5d"
   },
   "source": [
    "In basic case the task of real value prediction by other features (regression task) can be solved using squared error minimization.\n",
    "\n",
    "**[6]. Create function computing squared error of dependency approximation between height $y$ and weight $x$ using straight line $y = w_0 + w_1 * x$ by two parameters $w_0$ and $w_1$:**\n",
    "$$error(w_0, w_1) = \\sum_{i=1}^n {(y_i - (w_0 + w_1 * x_i))}^2 $$\n",
    "Where $n$ is number of observations in dataset, $y_i$ and $x_i$ are height and weight of $i$th person in dataset. "
   ]
  },
  {
   "cell_type": "code",
   "execution_count": 88,
   "metadata": {
    "_uuid": "f280a429d7f5050ecd389b8035922efa331edb70",
    "execution": {
     "iopub.execute_input": "2021-11-26T04:45:36.019196Z",
     "iopub.status.busy": "2021-11-26T04:45:36.018469Z",
     "iopub.status.idle": "2021-11-26T04:45:36.025253Z",
     "shell.execute_reply": "2021-11-26T04:45:36.024331Z",
     "shell.execute_reply.started": "2021-11-26T04:45:36.019122Z"
    }
   },
   "outputs": [],
   "source": [
    "def squared_error(w0,w1):\n",
    "    error = []\n",
    "    for i in list(data.index.values):\n",
    "            error.append((data['Height'][i] - (w0+w1*data['Weight'][i]))**2) \n",
    "    return (sum(error))"
   ]
  },
  {
   "cell_type": "markdown",
   "metadata": {
    "_uuid": "dcb9bbffa4d1be97e52325882c3157e62d0cdc13"
   },
   "source": [
    "So we are solving the task how to draw a straight line through the points cloud corresponding to observations in our dataset in space of features \"Height\" and \"Weight\" to minimize function[6]. Let's start with drawings some lines and make sure they transfer dependencies from height to weight.\n",
    "\n",
    "**[7]. On plot from [5] Problem 1 draw two straight lines corresponding to values of parameters $w_0, w_1) = (60, 0.05)$ and ($w_0, w_1) = (50, 0.16)$. Use *plot* method from *matplotlib.pyplot* and *linspace* method from NumPy library. Add the titles to axes and plot.**"
   ]
  },
  {
   "cell_type": "code",
   "execution_count": 89,
   "metadata": {
    "_uuid": "78e659bf643f1ddc6eaaa75e330b3bf700fc3b2c",
    "execution": {
     "iopub.execute_input": "2021-11-26T04:45:36.027589Z",
     "iopub.status.busy": "2021-11-26T04:45:36.026937Z",
     "iopub.status.idle": "2021-11-26T04:45:36.575247Z",
     "shell.execute_reply": "2021-11-26T04:45:36.574284Z",
     "shell.execute_reply.started": "2021-11-26T04:45:36.027528Z"
    }
   },
   "outputs": [],
   "source": [
    "data.plot.scatter(x = 'Weight', y = 'Height', title = 'Height and Weight scatter plot')\n",
    "plt.hold(True)\n",
    "x =  np.linspace(data['Weight'].min(),data['Weight'].max())\n",
    "w0 = 60\n",
    "w1 = 0.05\n",
    "y = w0+x*w1\n",
    "plt.plot(x,y,c='red')\n",
    "w0 = 50\n",
    "w1 = 0.16\n",
    "y = w0+x*w1\n",
    "plt.plot(x,y,c = 'green')"
   ]
  },
  {
   "cell_type": "markdown",
   "metadata": {
    "_uuid": "ea03bdd754174eacfdfb9e319be0e540b041d3d6"
   },
   "source": [
    "Squared error function minimization is very easy task because of the function's convex nature. There are many optimization methods for this problem. Let's look at dependency between error function and the first parameter (slope of the straight line) if the second parameter (absolute term) is fixed.\n",
    "\n",
    "**[8]. Plot dependency between error function calculated in [6] and $w_1$ parameter when $w_0$ = 50. Add the titles to axes and plot.**"
   ]
  },
  {
   "cell_type": "code",
   "execution_count": 90,
   "metadata": {
    "_uuid": "ed86c0f120f92dfc2c5c3fa3cf902eaa1e4bb690",
    "execution": {
     "iopub.execute_input": "2021-11-26T04:45:36.577655Z",
     "iopub.status.busy": "2021-11-26T04:45:36.577007Z",
     "iopub.status.idle": "2021-11-26T04:45:37.657153Z",
     "shell.execute_reply": "2021-11-26T04:45:37.656143Z",
     "shell.execute_reply.started": "2021-11-26T04:45:36.577588Z"
    }
   },
   "outputs": [],
   "source": [
    "w1 = np.linspace(0,2)\n",
    "error = squared_error(50,w1)\n",
    "plt.plot(w1,error,label='')\n",
    "plt.title('W1 and error dependency')\n",
    "plt.xlabel('w1')\n",
    "plt.ylabel('Error')"
   ]
  },
  {
   "cell_type": "markdown",
   "metadata": {
    "_uuid": "8415bad49e833a644f00a4c32e30f85f7c2324f5"
   },
   "source": [
    "Now we can find the slope of the straight line approximating dependency between height and weight when coefficient is fixed $w_0 = 50$ using optimization method.\n",
    "\n",
    "**[9]. Using *minimize_scalar* method from *scipy.optimize* find the minimum of the function[6] for parameter value $w_1$ in range [-5,5]. Draw on plot [5] Problem 1 the straight line corresponding to the values of parameters ($w_0$, $w_1$) = (50, $w_1\\_opt$) where $w_1\\_opt$ is optimal value of parameter $w_1$ that was found in [8].**"
   ]
  },
  {
   "cell_type": "code",
   "execution_count": 91,
   "metadata": {
    "_uuid": "e5599ff00726b1e40d7c759a8ce827eaf292e53f",
    "execution": {
     "iopub.execute_input": "2021-11-26T04:45:37.659553Z",
     "iopub.status.busy": "2021-11-26T04:45:37.658875Z",
     "iopub.status.idle": "2021-11-26T04:45:43.224926Z",
     "shell.execute_reply": "2021-11-26T04:45:43.224010Z",
     "shell.execute_reply.started": "2021-11-26T04:45:37.659488Z"
    }
   },
   "outputs": [],
   "source": [
    "from scipy.optimize import minimize_scalar\n",
    "#used lambda as squared_error have more than input\n",
    "res = minimize_scalar(lambda w1: squared_error(w0,w1),bounds=(-5,5)) \n",
    "\n",
    "w1_opt_2=res.x"
   ]
  },
  {
   "cell_type": "code",
   "execution_count": 92,
   "metadata": {
    "_uuid": "07a9f0eef190ca6e758e42521a169e694762a447",
    "execution": {
     "iopub.execute_input": "2021-11-26T04:45:43.226510Z",
     "iopub.status.busy": "2021-11-26T04:45:43.226254Z",
     "iopub.status.idle": "2021-11-26T04:45:49.301766Z",
     "shell.execute_reply": "2021-11-26T04:45:49.301035Z",
     "shell.execute_reply.started": "2021-11-26T04:45:43.226460Z"
    }
   },
   "outputs": [],
   "source": [
    "data.plot.scatter(x = 'Weight', y = 'Height', title = 'Height and Weight scatter plot')\n",
    "plt.hold(True)\n",
    "x =  np.linspace(data['Weight'].min(),data['Weight'].max())\n",
    "w0 = 50\n",
    "res = minimize_scalar(lambda w1: squared_error(w0,w1),bounds=(-5,5)) \n",
    "w1_opt =res.x\n",
    "y = w0+x*w1_opt\n",
    "plt.plot(x,y,c='red')"
   ]
  },
  {
   "cell_type": "markdown",
   "metadata": {
    "_uuid": "7c92b64a32a355ff40f2917b946849c151058431"
   },
   "source": [
    "When you analyze multidimensional data, you often want to get intuitive understanding about data nature using visualization. It is impossible to plot the data when you have more than 3 features. It is better to choose 2 or 3 principal components from data and represent them in plane or volume.\n",
    "\n",
    "Let's have a look how Python can draw 3D figures on example of function $z(x,y) = sin(\\sqrt{x^2+y^2})$ for values of $x$ и $y$ from interval [-5,5] with step 0.25"
   ]
  },
  {
   "cell_type": "code",
   "execution_count": 93,
   "metadata": {
    "_uuid": "121d161b6b9e6089d71a4d141113bb460ad97098",
    "execution": {
     "iopub.execute_input": "2021-11-26T04:45:49.303964Z",
     "iopub.status.busy": "2021-11-26T04:45:49.303370Z",
     "iopub.status.idle": "2021-11-26T04:45:49.307992Z",
     "shell.execute_reply": "2021-11-26T04:45:49.307122Z",
     "shell.execute_reply.started": "2021-11-26T04:45:49.303878Z"
    }
   },
   "outputs": [],
   "source": [
    "from mpl_toolkits.mplot3d import Axes3D"
   ]
  },
  {
   "cell_type": "markdown",
   "metadata": {
    "_uuid": "334a9d93e051e10d071e68ac1d89096575ea24a4"
   },
   "source": [
    "Create objects of type matplotlib.figure.Figure (picture) and  matplotlib.axes._subplots.Axes3DSubplot (axes). "
   ]
  },
  {
   "cell_type": "code",
   "execution_count": 94,
   "metadata": {
    "_uuid": "466438a77d086e38ce3dcf5709580e1aec8d3ce9",
    "execution": {
     "iopub.execute_input": "2021-11-26T04:45:49.310116Z",
     "iopub.status.busy": "2021-11-26T04:45:49.309444Z",
     "iopub.status.idle": "2021-11-26T04:45:49.852481Z",
     "shell.execute_reply": "2021-11-26T04:45:49.851416Z",
     "shell.execute_reply.started": "2021-11-26T04:45:49.310051Z"
    }
   },
   "outputs": [],
   "source": [
    "fig = plt.figure()\n",
    "ax = fig.gca(projection='3d') # get current axis\n",
    "\n",
    "# Create NumPy arrays with data points on X and Y axes.\n",
    "# Use meshgrid method creating matrix of coordinates\n",
    "# By vectors of coordinates. Set needed function Z(x, y).\n",
    "X = np.arange(-5, 5, 0.25)\n",
    "Y = np.arange(-5, 5, 0.25)\n",
    "X, Y = np.meshgrid(X, Y)\n",
    "Z = np.sin(np.sqrt(X**2 + Y**2))\n",
    "\n",
    "# Finally use *plot_surface* method of type object\n",
    "# Axes3DSubplot. Add titles to axes.\n",
    "surf = ax.plot_surface(X, Y, Z)\n",
    "ax.set_xlabel('X')\n",
    "ax.set_ylabel('Y')\n",
    "ax.set_zlabel('Z')\n",
    "plt.show()"
   ]
  },
  {
   "cell_type": "markdown",
   "metadata": {
    "_uuid": "4b25ec34755cdeb3b2d07220ad9e6131d0e2a047"
   },
   "source": [
    "**[10]. Create 3D-plot between error function calculated in [6] and parameters $w_0$ and $w_1$. Add titles \"Intercept\" to the $x$ axis, \"Slope\" to the $y$ axis, \"Error\" to the $z$ axis.**"
   ]
  },
  {
   "cell_type": "code",
   "execution_count": 95,
   "metadata": {
    "_uuid": "b8eaff7d2a7fedcf1246c7d95c1ee102b7bb480a",
    "execution": {
     "iopub.execute_input": "2021-11-26T04:45:49.854319Z",
     "iopub.status.busy": "2021-11-26T04:45:49.853994Z",
     "iopub.status.idle": "2021-11-26T04:45:52.342211Z",
     "shell.execute_reply": "2021-11-26T04:45:52.341144Z",
     "shell.execute_reply.started": "2021-11-26T04:45:49.854255Z"
    }
   },
   "outputs": [],
   "source": [
    "fig = plt.figure()\n",
    "ax = fig.gca(projection='3d') \n",
    "\n",
    "w0 = np.arange(0, 100, 1)\n",
    "w1 = np.arange(-5, 5, 0.25)\n",
    "w0, w1 = np.meshgrid(w0, w1)\n",
    "Error= squared_error(w0,w1)\n",
    "\n",
    "#Add titles \"Intercept\" to the x axis, \"Slope\" to the y axis, \"Error\" to the z axis.\n",
    "surf = ax.plot_surface(w0, w1, Error)\n",
    "ax.set_xlabel('Intercept')\n",
    "ax.set_ylabel('Slope')\n",
    "ax.set_zlabel('Error')\n",
    "plt.show()"
   ]
  },
  {
   "cell_type": "markdown",
   "metadata": {},
   "source": [
    "thank you"
   ]
  }
 ],
 "metadata": {
  "anaconda-cloud": {},
  "kernelspec": {
   "display_name": "Python 3 (ipykernel)",
   "language": "python",
   "name": "python3"
  },
  "language_info": {
   "codemirror_mode": {
    "name": "ipython",
    "version": 3
   },
   "file_extension": ".py",
   "mimetype": "text/x-python",
   "name": "python",
   "nbconvert_exporter": "python",
   "pygments_lexer": "ipython3",
   "version": "3.8.8"
  }
 },
 "nbformat": 4,
 "nbformat_minor": 4
}
