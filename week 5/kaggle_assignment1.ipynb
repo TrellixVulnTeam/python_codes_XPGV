{
 "cells": [
  {
   "cell_type": "markdown",
   "metadata": {
    "_uuid": "570fb89bb4f7838b1d0fdff70b2935790e5dbdbe"
   },
   "source": [
    "<center>\n",
    "<img src=\"https://habrastorage.org/files/fd4/502/43d/fd450243dd604b81b9713213a247aa20.jpg\">\n",
    "    \n",
    "## [mlcourse.ai](mlcourse.ai) – Open Machine Learning Course \n",
    "\n",
    "<center>Author: [Yury Kashnitskiy](http://yorko.github.io) <br>\n",
    "Translated and edited by [Sergey Isaev](https://www.linkedin.com/in/isvforall/), [Artem Trunov](https://www.linkedin.com/in/datamove/), [Anastasia Manokhina](https://www.linkedin.com/in/anastasiamanokhina/), and [Yuanyuan Pao](https://www.linkedin.com/in/yuanyuanpao/) <br>All content is distributed under the [Creative Commons CC BY-NC-SA 4.0](https://creativecommons.org/licenses/by-nc-sa/4.0/) license."
   ]
  },
  {
   "cell_type": "markdown",
   "metadata": {
    "_uuid": "998fc5f76227ab1df9460a7b05c508304b14b3a6"
   },
   "source": [
    "# <center> Assignment #1 (demo)\n",
    "## <center>  Exploratory data analysis with Pandas\n"
   ]
  },
  {
   "cell_type": "markdown",
   "metadata": {
    "_uuid": "89ef93231815456f4e0bc5dcc00b094aee800993"
   },
   "source": [
    "**In this task you should use Pandas to answer a few questions about the [Adult](https://archive.ics.uci.edu/ml/datasets/Adult) dataset. (You don't have to download the data – it's already here). Choose the answers in the [web-form](https://docs.google.com/forms/d/1uY7MpI2trKx6FLWZte0uVh3ULV4Cm_tDud0VDFGCOKg). This is a demo version of an assignment, so by submitting the form, you'll see a link to the solution .ipynb file.**"
   ]
  },
  {
   "cell_type": "markdown",
   "metadata": {
    "_uuid": "c322301ac858c748f8f80e63cf6f734fc70dde30"
   },
   "source": [
    "Unique values of all features (for more information, please see the links above):\n",
    "- `age`: continuous.\n",
    "- `workclass`: Private, Self-emp-not-inc, Self-emp-inc, Federal-gov, Local-gov, State-gov, Without-pay, Never-worked.\n",
    "- `fnlwgt`: continuous.\n",
    "- `education`: Bachelors, Some-college, 11th, HS-grad, Prof-school, Assoc-acdm, Assoc-voc, 9th, 7th-8th, 12th, Masters, 1st-4th, 10th, Doctorate, 5th-6th, Preschool.\n",
    "- `education-num`: continuous.\n",
    "- `marital-status`: Married-civ-spouse, Divorced, Never-married, Separated, Widowed, Married-spouse-absent, Married-AF-spouse.\n",
    "- `occupation`: Tech-support, Craft-repair, Other-service, Sales, Exec-managerial, Prof-specialty, Handlers-cleaners, Machine-op-inspct, Adm-clerical, Farming-fishing, Transport-moving, Priv-house-serv, Protective-serv, Armed-Forces.\n",
    "- `relationship`: Wife, Own-child, Husband, Not-in-family, Other-relative, Unmarried.\n",
    "- `race`: White, Asian-Pac-Islander, Amer-Indian-Eskimo, Other, Black.\n",
    "- `sex`: Female, Male.\n",
    "- `capital-gain`: continuous.\n",
    "- `capital-loss`: continuous.\n",
    "- `hours-per-week`: continuous.\n",
    "- `native-country`: United-States, Cambodia, England, Puerto-Rico, Canada, Germany, Outlying-US(Guam-USVI-etc), India, Japan, Greece, South, China, Cuba, Iran, Honduras, Philippines, Italy, Poland, Jamaica, Vietnam, Mexico, Portugal, Ireland, France, Dominican-Republic, Laos, Ecuador, Taiwan, Haiti, Columbia, Hungary, Guatemala, Nicaragua, Scotland, Thailand, Yugoslavia, El-Salvador, Trinadad&Tobago, Peru, Hong, Holand-Netherlands.   \n",
    "- `salary`: >50K,<=50K"
   ]
  },
  {
   "cell_type": "code",
   "execution_count": 1,
   "metadata": {
    "_uuid": "d3eb2411e23b7db11e4cbbb498a42752442a6f4c",
    "tags": []
   },
   "outputs": [],
   "source": [
    "import pandas as pd\n",
    "import numpy as np"
   ]
  },
  {
   "cell_type": "code",
   "execution_count": 4,
   "metadata": {
    "_uuid": "c5119d1b8151029b4ff57735c4279b795ae492a2",
    "tags": []
   },
   "outputs": [],
   "source": [
    "data = pd.read_csv('../input/adult.data.csv')\n",
    "data\n"
   ]
  },
  {
   "cell_type": "markdown",
   "metadata": {
    "_uuid": "6b19853f936853d40971b56f4d298ab55ee78cac"
   },
   "source": [
    "**1. How many men and women (*sex* feature) are represented in this dataset?** "
   ]
  },
  {
   "cell_type": "code",
   "execution_count": null,
   "metadata": {
    "_uuid": "d32cafcbe966dbdfa40c3017d16d6f8c96bfb3e2",
    "execution": {
     "iopub.execute_input": "2021-11-10T04:22:37.785308Z",
     "iopub.status.busy": "2021-11-10T04:22:37.785065Z",
     "iopub.status.idle": "2021-11-10T04:22:37.802025Z",
     "shell.execute_reply": "2021-11-10T04:22:37.80118Z",
     "shell.execute_reply.started": "2021-11-10T04:22:37.785271Z"
    }
   },
   "outputs": [],
   "source": [
    "data[\"sex\"].value_counts()"
   ]
  },
  {
   "cell_type": "markdown",
   "metadata": {
    "_uuid": "4748793234a5d325ea60d13331ecf93e29774523"
   },
   "source": [
    "**2. What is the average age (*age* feature) of women?**"
   ]
  },
  {
   "cell_type": "code",
   "execution_count": null,
   "metadata": {
    "_uuid": "64f60d928855107d8980875656dcdf3587d91646",
    "execution": {
     "iopub.execute_input": "2021-11-10T04:22:37.803607Z",
     "iopub.status.busy": "2021-11-10T04:22:37.803335Z",
     "iopub.status.idle": "2021-11-10T04:22:37.820085Z",
     "shell.execute_reply": "2021-11-10T04:22:37.819014Z",
     "shell.execute_reply.started": "2021-11-10T04:22:37.803559Z"
    }
   },
   "outputs": [],
   "source": [
    "women=data[data.sex==\"Female\"]\n",
    "np.mean(women[\"age\"])"
   ]
  },
  {
   "cell_type": "markdown",
   "metadata": {
    "_uuid": "80e87c421c348067e88769c64e554206c51727d1"
   },
   "source": [
    "**3. What is the percentage of German citizens (*native-country* feature)?**"
   ]
  },
  {
   "cell_type": "code",
   "execution_count": null,
   "metadata": {
    "_uuid": "ca9807509692638bd945671ed7d8b4a5ad1f3626",
    "execution": {
     "iopub.execute_input": "2021-11-10T04:22:37.822033Z",
     "iopub.status.busy": "2021-11-10T04:22:37.82124Z",
     "iopub.status.idle": "2021-11-10T04:22:37.839547Z",
     "shell.execute_reply": "2021-11-10T04:22:37.838661Z",
     "shell.execute_reply.started": "2021-11-10T04:22:37.821971Z"
    }
   },
   "outputs": [],
   "source": [
    "total=data.shape[0]\n",
    "citizen=data['native-country'] == 'Germany'\n",
    "citizen.sum() / total\n"
   ]
  },
  {
   "cell_type": "markdown",
   "metadata": {
    "_uuid": "be9911cf525df4fca2c1d14b8720bc8a82f462e7"
   },
   "source": [
    "**4-5. What are the mean and standard deviation of age for those who earn more than 50K per year (*salary* feature) and those who earn less than 50K per year? **"
   ]
  },
  {
   "cell_type": "code",
   "execution_count": null,
   "metadata": {
    "_uuid": "97948f0115f949913d211627151b5605bcd204fd",
    "execution": {
     "iopub.execute_input": "2021-11-10T04:33:10.131027Z",
     "iopub.status.busy": "2021-11-10T04:33:10.13067Z",
     "iopub.status.idle": "2021-11-10T04:33:10.159085Z",
     "shell.execute_reply": "2021-11-10T04:33:10.158326Z",
     "shell.execute_reply.started": "2021-11-10T04:33:10.130965Z"
    }
   },
   "outputs": [],
   "source": [
    "ages1 = data[data['salary'] == '>50K']\n",
    "ages2 = data[data['salary'] == '<=50K']\n",
    "# mean and Standard deviation for those who earns >50K\n",
    "mean1=np.mean(ages1['age'])\n",
    "std1=np.std(ages1['age'])\n",
    "print(\"mean and standard deviation of people who earns >50K is \"+str(mean1)+\"  and  \"+str(std1))\n",
    "# mean and Standard deviation for those who earns <=50K\n",
    "mean2=np.mean(ages2['age'])\n",
    "std2=np.std(ages2['age'])\n",
    "print(\"mean and standard deviation of people who earns <=50K is \"+str(mean2)+\"  and  \"+str(std2))"
   ]
  },
  {
   "cell_type": "markdown",
   "metadata": {
    "_uuid": "180c3fe6f8b250b877c1d86866067b80acabdb64"
   },
   "source": [
    "**6. Is it true that people who earn more than 50K have at least high school education? (*education – Bachelors, Prof-school, Assoc-acdm, Assoc-voc, Masters* or *Doctorate* feature)**"
   ]
  },
  {
   "cell_type": "code",
   "execution_count": null,
   "metadata": {
    "_uuid": "58f38ebfa2b0e1418a6a1a680d0743697f9876a2",
    "execution": {
     "iopub.execute_input": "2021-11-10T04:40:01.675757Z",
     "iopub.status.busy": "2021-11-10T04:40:01.675151Z",
     "iopub.status.idle": "2021-11-10T04:40:01.693846Z",
     "shell.execute_reply": "2021-11-10T04:40:01.693049Z",
     "shell.execute_reply.started": "2021-11-10T04:40:01.675684Z"
    }
   },
   "outputs": [],
   "source": [
    "record= data[data['salary'] == '>50K']\n",
    "education=record['education'].unique()\n",
    "print(education)\n",
    "print(\"people who earns >50K have \"+str(len(education))+\" different education\")\n"
   ]
  },
  {
   "cell_type": "markdown",
   "metadata": {
    "_uuid": "87d6bc9ec1c230e66416ce94533ea250368009cc"
   },
   "source": [
    "**7. Display age statistics for each race (*race* feature) and each gender (*sex* feature). Use *groupby()* and *describe()*. Find the maximum age of men of *Amer-Indian-Eskimo* race.**"
   ]
  },
  {
   "cell_type": "code",
   "execution_count": null,
   "metadata": {
    "_uuid": "a4567b72200b583f7f2ee1583405d636c12169db",
    "execution": {
     "iopub.execute_input": "2021-11-10T04:46:09.402991Z",
     "iopub.status.busy": "2021-11-10T04:46:09.402668Z",
     "iopub.status.idle": "2021-11-10T04:46:09.466531Z",
     "shell.execute_reply": "2021-11-10T04:46:09.465403Z",
     "shell.execute_reply.started": "2021-11-10T04:46:09.40295Z"
    }
   },
   "outputs": [],
   "source": [
    "for (race, sex), sliced_data in data.groupby(['race', 'sex']):\n",
    "    print(\"\\nRace: \"+str(race)+\", sex: \"+str( sex))\n",
    "    print(sliced_data['age'].describe())"
   ]
  },
  {
   "cell_type": "markdown",
   "metadata": {
    "_uuid": "19411d604b0d4337a4a048a2f0e898541f39ab76"
   },
   "source": [
    "**8. Among whom is the proportion of those who earn a lot (>50K) greater: married or single men (*marital-status* feature)? Consider as married those who have a *marital-status* starting with *Married* (Married-civ-spouse, Married-spouse-absent or Married-AF-spouse), the rest are considered bachelors.**"
   ]
  },
  {
   "cell_type": "code",
   "execution_count": null,
   "metadata": {
    "_uuid": "5bb3a8524fcbd794707075ccf6aaf8dd0f30a3dd",
    "execution": {
     "iopub.execute_input": "2021-11-10T05:01:07.677423Z",
     "iopub.status.busy": "2021-11-10T05:01:07.677101Z",
     "iopub.status.idle": "2021-11-10T05:01:07.733784Z",
     "shell.execute_reply": "2021-11-10T05:01:07.732887Z",
     "shell.execute_reply.started": "2021-11-10T05:01:07.677373Z"
    }
   },
   "outputs": [],
   "source": [
    "print(\"unmarried person\\n\",data.loc[(data['sex'] == 'Male') &(data['marital-status'].isin(['Never-married','Separated','Divorced','Widowed'])), 'salary'].value_counts())\n",
    "\n",
    "print(\"\\nMarried person\\n\",data.loc[(data['sex'] == 'Male') &(data['marital-status'].str.startswith('Married')), 'salary'].value_counts())"
   ]
  },
  {
   "cell_type": "markdown",
   "metadata": {
    "_uuid": "34f2076e7d331b95a23b990372809b709d2c8183"
   },
   "source": [
    "**9. What is the maximum number of hours a person works per week (*hours-per-week* feature)? How many people work such a number of hours, and what is the percentage of those who earn a lot (>50K) among them?**"
   ]
  },
  {
   "cell_type": "code",
   "execution_count": null,
   "metadata": {
    "_uuid": "3571468172fc4bcf34e10b3d6ab358d4e41f7ef4",
    "execution": {
     "iopub.execute_input": "2021-11-10T05:13:00.980847Z",
     "iopub.status.busy": "2021-11-10T05:13:00.980001Z",
     "iopub.status.idle": "2021-11-10T05:13:01.009936Z",
     "shell.execute_reply": "2021-11-10T05:13:01.008744Z",
     "shell.execute_reply.started": "2021-11-10T05:13:00.980757Z"
    }
   },
   "outputs": [],
   "source": [
    "data.sort_values('hours-per-week',ascending=False)\n",
    "max_load = data['hours-per-week'].max()\n",
    "num_workaholics = data[data['hours-per-week'] == max_load].shape[0]\n",
    "rich_share = data[(data['hours-per-week'] == max_load)& (data['salary'] == '>50K')].shape[0] / num_workaholics\n",
    "print(\"maximum working hours :\"+str(max_load)+\" and percentage of those who earns >50K is \"+str(rich_share*100))"
   ]
  },
  {
   "cell_type": "markdown",
   "metadata": {
    "_uuid": "d539d4d137fac1c5ea25bc516188eb657d67e9b4"
   },
   "source": [
    "**10. Count the average time of work (*hours-per-week*) for those who earn a little and a lot (*salary*) for each country (*native-country*). What will these be for Japan?**"
   ]
  },
  {
   "cell_type": "code",
   "execution_count": null,
   "metadata": {
    "_uuid": "75a93411f1e3b519afcc27c026aaa0c67eb526e9",
    "execution": {
     "iopub.execute_input": "2021-11-10T05:23:25.993375Z",
     "iopub.status.busy": "2021-11-10T05:23:25.993018Z",
     "iopub.status.idle": "2021-11-10T05:23:26.060288Z",
     "shell.execute_reply": "2021-11-10T05:23:26.058765Z",
     "shell.execute_reply.started": "2021-11-10T05:23:25.993315Z"
    }
   },
   "outputs": [],
   "source": [
    "for (country, salary), sliced_data in data.groupby(['native-country', 'salary']):\n",
    "    print(\"\\n\",country, salary, round(sliced_data['hours-per-week'].mean(), 2))\n",
    "    "
   ]
  },
  {
   "cell_type": "code",
   "execution_count": null,
   "metadata": {},
   "outputs": [],
   "source": []
  }
 ],
 "metadata": {
  "kernelspec": {
   "display_name": "Python 3 (ipykernel)",
   "language": "python",
   "name": "python3"
  },
  "language_info": {
   "codemirror_mode": {
    "name": "ipython",
    "version": 3
   },
   "file_extension": ".py",
   "mimetype": "text/x-python",
   "name": "python",
   "nbconvert_exporter": "python",
   "pygments_lexer": "ipython3",
   "version": "3.8.8"
  }
 },
 "nbformat": 4,
 "nbformat_minor": 4
}
